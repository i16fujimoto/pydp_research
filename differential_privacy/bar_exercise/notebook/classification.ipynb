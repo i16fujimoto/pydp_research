{
 "cells": [
  {
   "cell_type": "code",
   "execution_count": 39,
   "id": "c101885a",
   "metadata": {},
   "outputs": [],
   "source": [
    "%matplotlib inline\n",
    "from pathlib import Path\n",
    "import numpy as np\n",
    "import pandas as pd\n",
    "from IPython.display import Image\n",
    "\n",
    "import glob\n",
    "import re\n",
    "import os\n",
    "import pathlib\n",
    "import pandas as pd\n",
    "import matplotlib.pyplot as plt\n",
    "import scipy.signal\n",
    "import statistics\n",
    "import collections\n",
    "import itertools\n",
    "import seaborn as sns\n",
    "\n",
    "import pandas as pd\n",
    "import numpy as np\n",
    "import matplotlib.pyplot as plt\n",
    "import glob\n",
    "import gc\n",
    "import time\n",
    "import math\n",
    "from scipy import signal\n",
    "from scipy.fftpack import fft, fftfreq\n",
    "from scipy.stats import iqr\n",
    "from scipy.stats import pearsonr\n",
    "from scipy.stats import skew\n",
    "from scipy.stats import kurtosis\n",
    "from spectrum import *\n",
    "from statsmodels.robust import mad as median_deviation\n",
    "from sklearn.preprocessing import minmax_scale\n",
    "import os\n",
    "\n",
    "from sklearn.svm import SVC\n",
    "from sklearn.neighbors import KNeighborsClassifier\n",
    "from sklearn.neural_network import MLPClassifier\n",
    "from sklearn.ensemble import RandomForestClassifier\n",
    "from sklearn.tree import DecisionTreeClassifier\n",
    "from sklearn.tree import ExtraTreeClassifier\n",
    "from sklearn.linear_model import LogisticRegression\n",
    "from sklearn.naive_bayes import GaussianNB\n",
    "\n",
    "from sklearn.preprocessing import StandardScaler\n",
    "from sklearn.decomposition import PCA\n",
    "from sklearn.pipeline import make_pipeline\n",
    "from sklearn.model_selection import LeaveOneGroupOut\n",
    "from sklearn.model_selection import StratifiedKFold\n",
    "from sklearn.model_selection import cross_val_predict\n",
    "from sklearn.metrics import confusion_matrix\n",
    "from sklearn.metrics import classification_report\n",
    "from sklearn.manifold import TSNE\n",
    "from lightgbm import LGBMClassifier\n",
    "from collections import Counter"
   ]
  },
  {
   "cell_type": "code",
   "execution_count": 64,
   "id": "832d020a",
   "metadata": {},
   "outputs": [],
   "source": [
    "# 混同行列\n",
    "def generate_cm(df, index, columns, filename, index_name=\"True Label\", columns_name=\"Estimated Label\", figure_size=(10, 8), fontsize=20,  font=\"Times New Roman\", bottom=None, top=None, right=None, left=None):\n",
    "    cm2 = pd.DataFrame(df, index=index, columns=columns)\n",
    "    cm3 = cm2.astype('float').div(cm2.sum(axis=1), axis=\"index\")\n",
    "    cm3_object = pd.DataFrame(cm3.values, index=index, columns=columns, dtype=str)\n",
    "    \n",
    "    for i in range(cm3_object.shape[0]):\n",
    "        for j in range(cm3_object.shape[1]):\n",
    "            cm3_object.iat[i, j] = \"{0:.1f}\".format(cm3.iat[i, j]) + \"\\n\" + \"(\" + str(cm2.iat[i, j]) + \")\"\n",
    "    \n",
    "    cm3.index.name = \"True label\"\n",
    "    cm3.columns.name = \"Estimated label\"\n",
    "    sns.set()\n",
    "    sns.set('talk', 'whitegrid', 'dark', font_scale=1)\n",
    "\n",
    "    plt.figure()\n",
    "    plt.rcParams[\"font.size\"] = fontsize\n",
    "    plt.rcParams['font.family'] = font\n",
    "    plt.figure(figsize=figure_size)\n",
    "    plt.xlabel('Predict')\n",
    "    plt.ylabel('Actual')\n",
    "\n",
    "#     plt.subplots_adjust(bottom=bottom, top=top, left=left, right=right)\n",
    "    plt.tight_layout()\n",
    "    #     plt.subplots_adjust()\n",
    "\n",
    "    sns.heatmap(cm3, annot=cm3_object.values, fmt=\"\", linewidth=2, cmap=\"gray_r\", linecolor=\"black\", vmax=1, vmin=0)\n",
    "\n",
    "\n",
    "    plt.savefig(filename, bbox_inches=\"tight\", pad_inches=0.05)\n",
    "    plt.close(\"all\")"
   ]
  },
  {
   "cell_type": "code",
   "execution_count": 14,
   "id": "843eff76",
   "metadata": {},
   "outputs": [],
   "source": [
    "def run_closs_val(terget_df, terget_dir, terget_class, condition, classifiers, features_list, val_type):\n",
    "    \n",
    "    \n",
    "    X = terget_df[ features_list].values\n",
    "    Y = terget_df.label.values\n",
    "    #groups = terget_df.case.values\n",
    "\n",
    "    labels = np.unique(Y)\n",
    "    \n",
    "    for i in range(len(classifiers)):\n",
    "        name, clf = classifiers[i]\n",
    "        print(name)\n",
    "        scaler = StandardScaler()\n",
    "        #pca = PCA(n_components=0.95)\n",
    "        pipeline = make_pipeline(scaler, clf)\n",
    "        #cv = LeaveOneGroupOut()\n",
    "        #cv = StratifiedKFold(10)\n",
    "        if (val_type == \"person-out\"):\n",
    "            print(val_type)\n",
    "            cv = LeaveOneGroupOut()\n",
    "        else:\n",
    "            print(\"10 fold\")\n",
    "            cv = StratifiedKFold(10)\n",
    "\n",
    "\n",
    "        \n",
    "        y_pred = cross_val_predict(pipeline, X, Y, #groups=groups, \n",
    "                                   cv=cv, n_jobs=7, verbose=1)\n",
    "\n",
    "        cr_dict = classification_report(Y, y_pred, output_dict=True)\n",
    "        cr_df = pd.DataFrame(cr_dict).T\n",
    "        cr_df.to_csv(terget_dir + \"/\"+condition+ '/clf_reports' + '/'+condition + '_'+ terget_class + '_'+'result_report_'+name+'.csv')\n",
    "\n",
    "        cm = confusion_matrix(Y, y_pred, labels=labels)\n",
    "        cm_df = pd.DataFrame(cm, index=labels, columns=labels)\n",
    "        cm_file_name =  terget_dir+ \"/\"+condition+ '/'+condition + '_'+ terget_class + '_'+ 'result_cm_' + name + \".png\"\n",
    "\n",
    "        generate_cm(cm_df, index=labels, columns=labels, filename = cm_file_name)\n",
    "        \n",
    "\n",
    "#         ddf = pd.concat([pd.Series(y_pred), pd.Series(Y), pd.Series(groups)] ,axis = 1)\n",
    "#         ddf.columns=[\"y_pred\",\"y\", \"session\"]\n",
    "        \n",
    "        \n",
    "        ddf = pd.concat([pd.Series(y_pred), pd.Series(Y)] ,axis = 1)\n",
    "        ddf.columns=[\"y_pred\",\"y\"]\n",
    "        \n",
    "        ddf.to_csv(terget_dir+ \"/\"+condition+ '/'+condition + '_'+ terget_class + '_'+ 'y_pred_true_user_' + name +'.csv')\n",
    "        \n",
    "        print(name,\"fin\")\n",
    "    #     Image(cm_file_name)"
   ]
  },
  {
   "cell_type": "code",
   "execution_count": 50,
   "id": "7ea36ff1",
   "metadata": {},
   "outputs": [],
   "source": [
    "def run_closs_val_PI(terget_df, terget_dir, terget_class, condition, classifiers, features_list):\n",
    "    \n",
    "    \n",
    "    X = terget_df[ features_list].values\n",
    "    Y = terget_df.label.values\n",
    "        \n",
    "    groups = terget_df.user.values\n",
    "    labels = np.unique(Y)\n",
    "    #val_type = condition.split(\"_\")[-1]\n",
    "    \n",
    "    \n",
    "    for i in range(len(classifiers)):\n",
    "        name, clf = classifiers[i]\n",
    "        print(name)\n",
    "        scaler = StandardScaler()\n",
    "        #pca = PCA(n_components=0.95)\n",
    "        pipeline = make_pipeline(scaler, clf)\n",
    "        \n",
    "        \n",
    "        cv = LeaveOneGroupOut()\n",
    "#         if (val_type == \"person-out\"):\n",
    "#             print(val_type)\n",
    "#             cv = LeaveOneGroupOut()\n",
    "#         else:\n",
    "#             print(\"10 fold\")\n",
    "#             cv = StratifiedKFold(10)\n",
    "\n",
    "        # cv = StratifiedKFold(5)\n",
    "        y_pred = cross_val_predict(pipeline, X, Y,\n",
    "                                   groups=groups, cv=cv,\n",
    "                                   n_jobs=7, verbose=1)\n",
    "\n",
    "        cr_dict = classification_report(Y, y_pred, output_dict=True)\n",
    "        cr_df = pd.DataFrame(cr_dict).T\n",
    "        cr_df.to_csv(terget_dir + \"/\"+condition+ '/clf_reports' + '/'+condition + '_'+ terget_class + '_'+'result_report_'+name+'.csv')\n",
    "\n",
    "        cm = confusion_matrix(Y, y_pred, labels=labels)\n",
    "        cm_df = pd.DataFrame(cm, index=labels, columns=labels)\n",
    "        cm_file_name =  terget_dir+ \"/\"+condition+ '/'+condition + '_'+ terget_class + '_'+ 'result_cm_' + name + \".png\"\n",
    "\n",
    "        generate_cm(cm_df, index=labels, columns=labels, filename = cm_file_name)\n",
    "        \n",
    "\n",
    "        ddf = pd.concat([pd.Series(y_pred), pd.Series(Y), pd.Series(groups)] ,axis = 1)\n",
    "        ddf.columns=[\"y_pred\",\"y\",\"user\"]\n",
    "        ddf.to_csv(terget_dir+ \"/\"+condition+ '/'+condition + '_'+ terget_class + '_'+ 'y_pred_true_user_' + name +'.csv')\n",
    "        \n",
    "        print(name,\"fin\")\n",
    "    #     Image(cm_file_name)"
   ]
  },
  {
   "cell_type": "code",
   "execution_count": 3,
   "id": "9473c93e",
   "metadata": {},
   "outputs": [],
   "source": [
    "all_feature145_names = ['t-Mean-1',\n",
    " 't-Mean-2',\n",
    " 't-Mean-3',\n",
    " 't-STD-1',\n",
    " 't-STD-2',\n",
    " 't-STD-3',\n",
    " 't-Mad-1',\n",
    " 't-Mad-2',\n",
    " 't-Mad-3',\n",
    " 't-Max-1',\n",
    " 't-Max-2',\n",
    " 't-Max-3',\n",
    " 't-Min-1',\n",
    " 't-Min-2',\n",
    " 't-Min-3',\n",
    " 't-SMA-1',\n",
    " 't-Energy-1',\n",
    " 't-Energy-2',\n",
    " 't-Energy-3',\n",
    " 't-IQR-1',\n",
    " 't-IQR-2',\n",
    " 't-IQR-3',\n",
    " 't-ropy-1',\n",
    " 't-ropy-2',\n",
    " 't-ropy-3',\n",
    " 't-ARCoeff-1',\n",
    " 't-ARCoeff-2',\n",
    " 't-ARCoeff-3',\n",
    " 't-ARCoeff-4',\n",
    " 't-ARCoeff-5',\n",
    " 't-ARCoeff-6',\n",
    " 't-ARCoeff-7',\n",
    " 't-ARCoeff-8',\n",
    " 't-ARCoeff-9',\n",
    " 't-ARCoeff-10',\n",
    " 't-ARCoeff-11',\n",
    " 't-ARCoeff-12',\n",
    " 't-Correlation-1',\n",
    " 't-Correlation-2',\n",
    " 't-Correlation-3',\n",
    " 't-Mean-mag',\n",
    " 't-STD-mag',\n",
    " 't-Mad-mag',\n",
    " 't-Max-mag',\n",
    " 't-Min-mag',\n",
    " 't-SMA-mag',\n",
    " 't-Energy-mag',\n",
    " 't-IQR-mag',\n",
    " 't-ropy-mag',\n",
    " 't-ARCoeff-mag1',\n",
    " 't-ARCoeff-mag2',\n",
    " 't-ARCoeff-mag3',\n",
    " 't-ARCoeff-mag4',\n",
    " 'f-Mean-1',\n",
    " 'f-Mean-2',\n",
    " 'f-Mean-3',\n",
    " 'f-STD-1',\n",
    " 'f-STD-2',\n",
    " 'f-STD-3',\n",
    " 'f-Mad-1',\n",
    " 'f-Mad-2',\n",
    " 'f-Mad-3',\n",
    " 'f-Max-1',\n",
    " 'f-Max-2',\n",
    " 'f-Max-3',\n",
    " 'f-Min-1',\n",
    " 'f-Min-2',\n",
    " 'f-Min-3',\n",
    " 'f-SMA-1',\n",
    " 'f-Energy-1',\n",
    " 'f-Energy-2',\n",
    " 'f-Energy-3',\n",
    " 'f-IQR-1',\n",
    " 'f-IQR-2',\n",
    " 'f-IQR-3',\n",
    " 'f-ropy-1',\n",
    " 'f-ropy-2',\n",
    " 'f-ropy-3',\n",
    " 'f-MaxInds-1',\n",
    " 'f-MaxInds-2',\n",
    " 'f-MaxInds-3',\n",
    " 'f-MeanFreq-1',\n",
    " 'f-MeanFreq-2',\n",
    " 'f-MeanFreq-3',\n",
    " 'f-Skewness-1',\n",
    " 'f-Skewness-2',\n",
    " 'f-Skewness-3',\n",
    " 'f-Kurtosis-1',\n",
    " 'f-Kurtosis-2',\n",
    " 'f-Kurtosis-3',\n",
    " 'f-BandsEnergyOld-1',\n",
    " 'f-BandsEnergyOld-2',\n",
    " 'f-BandsEnergyOld-3',\n",
    " 'f-BandsEnergyOld-4',\n",
    " 'f-BandsEnergyOld-5',\n",
    " 'f-BandsEnergyOld-6',\n",
    " 'f-BandsEnergyOld-7',\n",
    " 'f-BandsEnergyOld-8',\n",
    " 'f-BandsEnergyOld-9',\n",
    " 'f-BandsEnergyOld-10',\n",
    " 'f-BandsEnergyOld-11',\n",
    " 'f-BandsEnergyOld-12',\n",
    " 'f-BandsEnergyOld-13',\n",
    " 'f-BandsEnergyOld-14',\n",
    " 'f-BandsEnergyOld-15',\n",
    " 'f-BandsEnergyOld-16',\n",
    " 'f-BandsEnergyOld-17',\n",
    " 'f-BandsEnergyOld-18',\n",
    " 'f-BandsEnergyOld-19',\n",
    " 'f-BandsEnergyOld-20',\n",
    " 'f-BandsEnergyOld-21',\n",
    " 'f-BandsEnergyOld-22',\n",
    " 'f-BandsEnergyOld-23',\n",
    " 'f-BandsEnergyOld-24',\n",
    " 'f-BandsEnergyOld-25',\n",
    " 'f-BandsEnergyOld-26',\n",
    " 'f-BandsEnergyOld-27',\n",
    " 'f-BandsEnergyOld-28',\n",
    " 'f-BandsEnergyOld-29',\n",
    " 'f-BandsEnergyOld-30',\n",
    " 'f-BandsEnergyOld-31',\n",
    " 'f-BandsEnergyOld-32',\n",
    " 'f-BandsEnergyOld-33',\n",
    " 'f-BandsEnergyOld-34',\n",
    " 'f-BandsEnergyOld-35',\n",
    " 'f-BandsEnergyOld-36',\n",
    " 'f-BandsEnergyOld-37',\n",
    " 'f-BandsEnergyOld-38',\n",
    " 'f-BandsEnergyOld-39',\n",
    " 'f-BandsEnergyOld-40',\n",
    " 'f-BandsEnergyOld-41',\n",
    " 'f-BandsEnergyOld-42',\n",
    " 'f-Mean-mag',\n",
    " 'f-STD-mag',\n",
    " 'f-Mad-mag',\n",
    " 'f-Max-mag',\n",
    " 'f-Min-mag',\n",
    " 'f-SMA-mag',\n",
    " 'f-Energy-mag',\n",
    " 'f-IQR-mag',\n",
    " 'f-ropy-mag',\n",
    " 'f-MaxInds-mag',\n",
    " 'f-MeanFreq-mag',\n",
    " 'f-Skewness-mag',\n",
    " 'f-Kurtosis-mag']\n",
    "\n",
    "\n",
    "\n",
    "def add_acc(n):\n",
    "    return \"acc_\" + n\n",
    "\n",
    "acc_feature145_names = list(map(add_acc, all_feature145_names))"
   ]
  },
  {
   "cell_type": "code",
   "execution_count": 4,
   "id": "bf4f8702",
   "metadata": {},
   "outputs": [],
   "source": [
    "classifiers = [\n",
    "               (\"RF\", RandomForestClassifier(random_state=0)),\n",
    "               (\"ANN\", MLPClassifier()),\n",
    "               (\"LR\", LogisticRegression()),\n",
    "               (\"DT\", DecisionTreeClassifier()),\n",
    "               (\"ET\", ExtraTreeClassifier()),\n",
    "               (\"LR\", LogisticRegression()),\n",
    "               (\"NB\", GaussianNB()),\n",
    "               (\"SVM\", SVC()),\n",
    "               (\"KNN\", KNeighborsClassifier()),\n",
    "               (\"LightGBM\", LGBMClassifier())]"
   ]
  },
  {
   "cell_type": "markdown",
   "id": "44752421",
   "metadata": {},
   "source": [
    "/Users/y-nakamura/yugo_workspace/bar_exercise/data/raw/20210716/Bottom_2021-07-16T15.18.45.753_E2EE3F7D14CE_Accelerometer.csv\n",
    "/Users/y-nakamura/yugo_workspace/bar_exercise/data/raw/20210716/Middle_2021-07-16T15.18.10.660_CEF5C0D2C881_Accelerometer.csv\n",
    "/Users/y-nakamura/yugo_workspace/bar_exercise/data/raw/20210716/Upper_2021-07-16T15.17.48.292_D738727472C3_Accelerometer.csv"
   ]
  },
  {
   "cell_type": "code",
   "execution_count": 21,
   "id": "bfb3d392",
   "metadata": {},
   "outputs": [
    {
     "data": {
      "text/html": [
       "<div>\n",
       "<style scoped>\n",
       "    .dataframe tbody tr th:only-of-type {\n",
       "        vertical-align: middle;\n",
       "    }\n",
       "\n",
       "    .dataframe tbody tr th {\n",
       "        vertical-align: top;\n",
       "    }\n",
       "\n",
       "    .dataframe thead th {\n",
       "        text-align: right;\n",
       "    }\n",
       "</style>\n",
       "<table border=\"1\" class=\"dataframe\">\n",
       "  <thead>\n",
       "    <tr style=\"text-align: right;\">\n",
       "      <th></th>\n",
       "      <th>acc_t-Mean-1</th>\n",
       "      <th>acc_t-Mean-2</th>\n",
       "      <th>acc_t-Mean-3</th>\n",
       "      <th>acc_t-STD-1</th>\n",
       "      <th>acc_t-STD-2</th>\n",
       "      <th>acc_t-STD-3</th>\n",
       "      <th>acc_t-Mad-1</th>\n",
       "      <th>acc_t-Mad-2</th>\n",
       "      <th>acc_t-Mad-3</th>\n",
       "      <th>acc_t-Max-1</th>\n",
       "      <th>...</th>\n",
       "      <th>acc_f-SMA-mag</th>\n",
       "      <th>acc_f-Energy-mag</th>\n",
       "      <th>acc_f-IQR-mag</th>\n",
       "      <th>acc_f-ropy-mag</th>\n",
       "      <th>acc_f-MaxInds-mag</th>\n",
       "      <th>acc_f-MeanFreq-mag</th>\n",
       "      <th>acc_f-Skewness-mag</th>\n",
       "      <th>acc_f-Kurtosis-mag</th>\n",
       "      <th>label</th>\n",
       "      <th>user</th>\n",
       "    </tr>\n",
       "  </thead>\n",
       "  <tbody>\n",
       "    <tr>\n",
       "      <th>0</th>\n",
       "      <td>0.012277</td>\n",
       "      <td>-0.980031</td>\n",
       "      <td>-0.221554</td>\n",
       "      <td>0.000512</td>\n",
       "      <td>0.001252</td>\n",
       "      <td>0.000860</td>\n",
       "      <td>0.000000</td>\n",
       "      <td>0.000000</td>\n",
       "      <td>0.000000</td>\n",
       "      <td>0.013</td>\n",
       "      <td>...</td>\n",
       "      <td>0.063058</td>\n",
       "      <td>0.126212</td>\n",
       "      <td>0.000341</td>\n",
       "      <td>-1.929943</td>\n",
       "      <td>0.0</td>\n",
       "      <td>0.061105</td>\n",
       "      <td>5.388156</td>\n",
       "      <td>27.032238</td>\n",
       "      <td>0</td>\n",
       "      <td>0</td>\n",
       "    </tr>\n",
       "    <tr>\n",
       "      <th>1</th>\n",
       "      <td>0.012477</td>\n",
       "      <td>-0.980200</td>\n",
       "      <td>-0.221615</td>\n",
       "      <td>0.000529</td>\n",
       "      <td>0.000532</td>\n",
       "      <td>0.000798</td>\n",
       "      <td>0.001483</td>\n",
       "      <td>0.000000</td>\n",
       "      <td>0.001483</td>\n",
       "      <td>0.013</td>\n",
       "      <td>...</td>\n",
       "      <td>0.062917</td>\n",
       "      <td>0.126258</td>\n",
       "      <td>0.000098</td>\n",
       "      <td>-1.982123</td>\n",
       "      <td>0.0</td>\n",
       "      <td>0.028830</td>\n",
       "      <td>5.388158</td>\n",
       "      <td>27.032254</td>\n",
       "      <td>0</td>\n",
       "      <td>0</td>\n",
       "    </tr>\n",
       "    <tr>\n",
       "      <th>2</th>\n",
       "      <td>0.012338</td>\n",
       "      <td>-0.980077</td>\n",
       "      <td>-0.221523</td>\n",
       "      <td>0.000686</td>\n",
       "      <td>0.000771</td>\n",
       "      <td>0.000861</td>\n",
       "      <td>0.001483</td>\n",
       "      <td>0.001483</td>\n",
       "      <td>0.001483</td>\n",
       "      <td>0.013</td>\n",
       "      <td>...</td>\n",
       "      <td>0.062943</td>\n",
       "      <td>0.126222</td>\n",
       "      <td>0.000113</td>\n",
       "      <td>-1.969639</td>\n",
       "      <td>0.0</td>\n",
       "      <td>0.034847</td>\n",
       "      <td>5.388158</td>\n",
       "      <td>27.032249</td>\n",
       "      <td>0</td>\n",
       "      <td>0</td>\n",
       "    </tr>\n",
       "    <tr>\n",
       "      <th>3</th>\n",
       "      <td>0.012262</td>\n",
       "      <td>-0.979815</td>\n",
       "      <td>-0.221246</td>\n",
       "      <td>0.000663</td>\n",
       "      <td>0.000839</td>\n",
       "      <td>0.001023</td>\n",
       "      <td>0.001483</td>\n",
       "      <td>0.000000</td>\n",
       "      <td>0.001483</td>\n",
       "      <td>0.013</td>\n",
       "      <td>...</td>\n",
       "      <td>0.062945</td>\n",
       "      <td>0.126143</td>\n",
       "      <td>0.000146</td>\n",
       "      <td>-1.960250</td>\n",
       "      <td>0.0</td>\n",
       "      <td>0.043273</td>\n",
       "      <td>5.388158</td>\n",
       "      <td>27.032248</td>\n",
       "      <td>0</td>\n",
       "      <td>0</td>\n",
       "    </tr>\n",
       "    <tr>\n",
       "      <th>4</th>\n",
       "      <td>0.012262</td>\n",
       "      <td>-0.980000</td>\n",
       "      <td>-0.221262</td>\n",
       "      <td>0.000589</td>\n",
       "      <td>0.000823</td>\n",
       "      <td>0.000933</td>\n",
       "      <td>0.000000</td>\n",
       "      <td>0.000000</td>\n",
       "      <td>0.001483</td>\n",
       "      <td>0.013</td>\n",
       "      <td>...</td>\n",
       "      <td>0.062957</td>\n",
       "      <td>0.126189</td>\n",
       "      <td>0.000130</td>\n",
       "      <td>-1.960811</td>\n",
       "      <td>0.0</td>\n",
       "      <td>0.044567</td>\n",
       "      <td>5.388158</td>\n",
       "      <td>27.032248</td>\n",
       "      <td>0</td>\n",
       "      <td>0</td>\n",
       "    </tr>\n",
       "  </tbody>\n",
       "</table>\n",
       "<p>5 rows × 147 columns</p>\n",
       "</div>"
      ],
      "text/plain": [
       "   acc_t-Mean-1  acc_t-Mean-2  acc_t-Mean-3  acc_t-STD-1  acc_t-STD-2  \\\n",
       "0      0.012277     -0.980031     -0.221554     0.000512     0.001252   \n",
       "1      0.012477     -0.980200     -0.221615     0.000529     0.000532   \n",
       "2      0.012338     -0.980077     -0.221523     0.000686     0.000771   \n",
       "3      0.012262     -0.979815     -0.221246     0.000663     0.000839   \n",
       "4      0.012262     -0.980000     -0.221262     0.000589     0.000823   \n",
       "\n",
       "   acc_t-STD-3  acc_t-Mad-1  acc_t-Mad-2  acc_t-Mad-3  acc_t-Max-1  ...  \\\n",
       "0     0.000860     0.000000     0.000000     0.000000        0.013  ...   \n",
       "1     0.000798     0.001483     0.000000     0.001483        0.013  ...   \n",
       "2     0.000861     0.001483     0.001483     0.001483        0.013  ...   \n",
       "3     0.001023     0.001483     0.000000     0.001483        0.013  ...   \n",
       "4     0.000933     0.000000     0.000000     0.001483        0.013  ...   \n",
       "\n",
       "   acc_f-SMA-mag  acc_f-Energy-mag  acc_f-IQR-mag  acc_f-ropy-mag  \\\n",
       "0       0.063058          0.126212       0.000341       -1.929943   \n",
       "1       0.062917          0.126258       0.000098       -1.982123   \n",
       "2       0.062943          0.126222       0.000113       -1.969639   \n",
       "3       0.062945          0.126143       0.000146       -1.960250   \n",
       "4       0.062957          0.126189       0.000130       -1.960811   \n",
       "\n",
       "   acc_f-MaxInds-mag  acc_f-MeanFreq-mag  acc_f-Skewness-mag  \\\n",
       "0                0.0            0.061105            5.388156   \n",
       "1                0.0            0.028830            5.388158   \n",
       "2                0.0            0.034847            5.388158   \n",
       "3                0.0            0.043273            5.388158   \n",
       "4                0.0            0.044567            5.388158   \n",
       "\n",
       "   acc_f-Kurtosis-mag  label  user  \n",
       "0           27.032238      0     0  \n",
       "1           27.032254      0     0  \n",
       "2           27.032249      0     0  \n",
       "3           27.032248      0     0  \n",
       "4           27.032248      0     0  \n",
       "\n",
       "[5 rows x 147 columns]"
      ]
     },
     "execution_count": 21,
     "metadata": {},
     "output_type": "execute_result"
    }
   ],
   "source": [
    "os.getcwd()\n",
    "\n",
    "terger_dir =\"/Users/y-nakamura/yugo_workspace/bar_exercise/data/features/20210716\"\n",
    "\n",
    "os.chdir(terger_dir)\n",
    "\n",
    "# df_bottom = pd.read_csv(terger_dir + \"/Bottom_2021-07-16T15.18.45.753_E2EE3F7D14CE_Accelerometer_features.csv\")\n",
    "# df_middle = pd.read_csv(terger_dir + \"/Middle_2021-07-16T15.18.10.660_CEF5C0D2C881_Accelerometer_features.csv\")\n",
    "# df_upper = pd.read_csv(terger_dir + \"/Upper_2021-07-16T15.17.48.292_D738727472C3_Accelerometer_features.csv\")\n",
    "df_upper = pd.read_csv(terger_dir + \"/0721_Upper_2021-07-16T15.17.48.292_D738727472C3_Accelerometer - Upper_2021-07-16T15.17.48.292_D738727472C3_Accelerometer_features.csv\")\n",
    "\n",
    "\n",
    "df_upper.head()"
   ]
  },
  {
   "cell_type": "code",
   "execution_count": 26,
   "id": "f6875e20",
   "metadata": {},
   "outputs": [
    {
     "data": {
      "text/plain": [
       "array([0, 1, 2, 3, 4, 5, 6, 7, 8])"
      ]
     },
     "execution_count": 26,
     "metadata": {},
     "output_type": "execute_result"
    }
   ],
   "source": [
    "np.unique(df_upper.user.values)"
   ]
  },
  {
   "cell_type": "code",
   "execution_count": 29,
   "id": "f8a83d0f",
   "metadata": {},
   "outputs": [],
   "source": [
    "user_list = [1, 2, 3, 4, 5, 6, 7, 8]"
   ]
  },
  {
   "cell_type": "code",
   "execution_count": 35,
   "id": "b56f281e",
   "metadata": {},
   "outputs": [],
   "source": [
    "df = df_upper[df_upper.user.isin(user_list)]"
   ]
  },
  {
   "cell_type": "code",
   "execution_count": 37,
   "id": "3b2871b1",
   "metadata": {},
   "outputs": [
    {
     "data": {
      "text/html": [
       "<div>\n",
       "<style scoped>\n",
       "    .dataframe tbody tr th:only-of-type {\n",
       "        vertical-align: middle;\n",
       "    }\n",
       "\n",
       "    .dataframe tbody tr th {\n",
       "        vertical-align: top;\n",
       "    }\n",
       "\n",
       "    .dataframe thead th {\n",
       "        text-align: right;\n",
       "    }\n",
       "</style>\n",
       "<table border=\"1\" class=\"dataframe\">\n",
       "  <thead>\n",
       "    <tr style=\"text-align: right;\">\n",
       "      <th></th>\n",
       "      <th>acc_t-Mean-1</th>\n",
       "      <th>acc_t-Mean-2</th>\n",
       "      <th>acc_t-Mean-3</th>\n",
       "      <th>acc_t-STD-1</th>\n",
       "      <th>acc_t-STD-2</th>\n",
       "      <th>acc_t-STD-3</th>\n",
       "      <th>acc_t-Mad-1</th>\n",
       "      <th>acc_t-Mad-2</th>\n",
       "      <th>acc_t-Mad-3</th>\n",
       "      <th>acc_t-Max-1</th>\n",
       "      <th>...</th>\n",
       "      <th>acc_f-SMA-mag</th>\n",
       "      <th>acc_f-Energy-mag</th>\n",
       "      <th>acc_f-IQR-mag</th>\n",
       "      <th>acc_f-ropy-mag</th>\n",
       "      <th>acc_f-MaxInds-mag</th>\n",
       "      <th>acc_f-MeanFreq-mag</th>\n",
       "      <th>acc_f-Skewness-mag</th>\n",
       "      <th>acc_f-Kurtosis-mag</th>\n",
       "      <th>label</th>\n",
       "      <th>user</th>\n",
       "    </tr>\n",
       "  </thead>\n",
       "  <tbody>\n",
       "    <tr>\n",
       "      <th>122</th>\n",
       "      <td>0.011815</td>\n",
       "      <td>-0.980262</td>\n",
       "      <td>-0.221969</td>\n",
       "      <td>0.000893</td>\n",
       "      <td>0.000790</td>\n",
       "      <td>0.002267</td>\n",
       "      <td>0.000000</td>\n",
       "      <td>0.001483</td>\n",
       "      <td>0.002965</td>\n",
       "      <td>0.014</td>\n",
       "      <td>...</td>\n",
       "      <td>0.062956</td>\n",
       "      <td>0.126291</td>\n",
       "      <td>0.000091</td>\n",
       "      <td>-1.971255</td>\n",
       "      <td>0.0</td>\n",
       "      <td>0.046497</td>\n",
       "      <td>5.388159</td>\n",
       "      <td>27.032254</td>\n",
       "      <td>0</td>\n",
       "      <td>1</td>\n",
       "    </tr>\n",
       "    <tr>\n",
       "      <th>123</th>\n",
       "      <td>0.011954</td>\n",
       "      <td>-0.980415</td>\n",
       "      <td>-0.222108</td>\n",
       "      <td>0.000643</td>\n",
       "      <td>0.000654</td>\n",
       "      <td>0.002444</td>\n",
       "      <td>0.000000</td>\n",
       "      <td>0.001483</td>\n",
       "      <td>0.002965</td>\n",
       "      <td>0.013</td>\n",
       "      <td>...</td>\n",
       "      <td>0.062968</td>\n",
       "      <td>0.126337</td>\n",
       "      <td>0.000099</td>\n",
       "      <td>-1.971716</td>\n",
       "      <td>0.0</td>\n",
       "      <td>0.045397</td>\n",
       "      <td>5.388159</td>\n",
       "      <td>27.032256</td>\n",
       "      <td>0</td>\n",
       "      <td>1</td>\n",
       "    </tr>\n",
       "    <tr>\n",
       "      <th>124</th>\n",
       "      <td>0.012031</td>\n",
       "      <td>-0.980062</td>\n",
       "      <td>-0.222523</td>\n",
       "      <td>0.000723</td>\n",
       "      <td>0.000742</td>\n",
       "      <td>0.002348</td>\n",
       "      <td>0.001483</td>\n",
       "      <td>0.001483</td>\n",
       "      <td>0.002965</td>\n",
       "      <td>0.013</td>\n",
       "      <td>...</td>\n",
       "      <td>0.062976</td>\n",
       "      <td>0.126274</td>\n",
       "      <td>0.000138</td>\n",
       "      <td>-1.962763</td>\n",
       "      <td>0.0</td>\n",
       "      <td>0.046902</td>\n",
       "      <td>5.388158</td>\n",
       "      <td>27.032251</td>\n",
       "      <td>0</td>\n",
       "      <td>1</td>\n",
       "    </tr>\n",
       "    <tr>\n",
       "      <th>125</th>\n",
       "      <td>0.011738</td>\n",
       "      <td>-0.980077</td>\n",
       "      <td>-0.222108</td>\n",
       "      <td>0.000770</td>\n",
       "      <td>0.000917</td>\n",
       "      <td>0.002463</td>\n",
       "      <td>0.001483</td>\n",
       "      <td>0.001483</td>\n",
       "      <td>0.002965</td>\n",
       "      <td>0.013</td>\n",
       "      <td>...</td>\n",
       "      <td>0.062970</td>\n",
       "      <td>0.126253</td>\n",
       "      <td>0.000185</td>\n",
       "      <td>-1.963121</td>\n",
       "      <td>0.0</td>\n",
       "      <td>0.045907</td>\n",
       "      <td>5.388158</td>\n",
       "      <td>27.032250</td>\n",
       "      <td>0</td>\n",
       "      <td>1</td>\n",
       "    </tr>\n",
       "    <tr>\n",
       "      <th>126</th>\n",
       "      <td>0.011815</td>\n",
       "      <td>-0.980108</td>\n",
       "      <td>-0.222585</td>\n",
       "      <td>0.000821</td>\n",
       "      <td>0.001054</td>\n",
       "      <td>0.004235</td>\n",
       "      <td>0.000000</td>\n",
       "      <td>0.001483</td>\n",
       "      <td>0.004448</td>\n",
       "      <td>0.014</td>\n",
       "      <td>...</td>\n",
       "      <td>0.062943</td>\n",
       "      <td>0.126289</td>\n",
       "      <td>0.000080</td>\n",
       "      <td>-1.976088</td>\n",
       "      <td>0.0</td>\n",
       "      <td>0.035287</td>\n",
       "      <td>5.388158</td>\n",
       "      <td>27.032253</td>\n",
       "      <td>0</td>\n",
       "      <td>1</td>\n",
       "    </tr>\n",
       "    <tr>\n",
       "      <th>...</th>\n",
       "      <td>...</td>\n",
       "      <td>...</td>\n",
       "      <td>...</td>\n",
       "      <td>...</td>\n",
       "      <td>...</td>\n",
       "      <td>...</td>\n",
       "      <td>...</td>\n",
       "      <td>...</td>\n",
       "      <td>...</td>\n",
       "      <td>...</td>\n",
       "      <td>...</td>\n",
       "      <td>...</td>\n",
       "      <td>...</td>\n",
       "      <td>...</td>\n",
       "      <td>...</td>\n",
       "      <td>...</td>\n",
       "      <td>...</td>\n",
       "      <td>...</td>\n",
       "      <td>...</td>\n",
       "      <td>...</td>\n",
       "      <td>...</td>\n",
       "    </tr>\n",
       "    <tr>\n",
       "      <th>2075</th>\n",
       "      <td>0.010246</td>\n",
       "      <td>-0.978938</td>\n",
       "      <td>-0.225092</td>\n",
       "      <td>0.013863</td>\n",
       "      <td>0.002882</td>\n",
       "      <td>0.012576</td>\n",
       "      <td>0.010378</td>\n",
       "      <td>0.004448</td>\n",
       "      <td>0.016309</td>\n",
       "      <td>0.034</td>\n",
       "      <td>...</td>\n",
       "      <td>0.062998</td>\n",
       "      <td>0.126181</td>\n",
       "      <td>0.000198</td>\n",
       "      <td>-1.945451</td>\n",
       "      <td>0.0</td>\n",
       "      <td>0.069499</td>\n",
       "      <td>5.388158</td>\n",
       "      <td>27.032250</td>\n",
       "      <td>0</td>\n",
       "      <td>2</td>\n",
       "    </tr>\n",
       "    <tr>\n",
       "      <th>2076</th>\n",
       "      <td>0.010292</td>\n",
       "      <td>-0.978969</td>\n",
       "      <td>-0.225062</td>\n",
       "      <td>0.014791</td>\n",
       "      <td>0.002762</td>\n",
       "      <td>0.012091</td>\n",
       "      <td>0.017791</td>\n",
       "      <td>0.004448</td>\n",
       "      <td>0.016309</td>\n",
       "      <td>0.034</td>\n",
       "      <td>...</td>\n",
       "      <td>0.062995</td>\n",
       "      <td>0.126189</td>\n",
       "      <td>0.000131</td>\n",
       "      <td>-1.946485</td>\n",
       "      <td>0.0</td>\n",
       "      <td>0.068486</td>\n",
       "      <td>5.388158</td>\n",
       "      <td>27.032254</td>\n",
       "      <td>0</td>\n",
       "      <td>2</td>\n",
       "    </tr>\n",
       "    <tr>\n",
       "      <th>2077</th>\n",
       "      <td>0.010169</td>\n",
       "      <td>-0.978477</td>\n",
       "      <td>-0.226108</td>\n",
       "      <td>0.009283</td>\n",
       "      <td>0.002106</td>\n",
       "      <td>0.009401</td>\n",
       "      <td>0.011861</td>\n",
       "      <td>0.002965</td>\n",
       "      <td>0.014826</td>\n",
       "      <td>0.025</td>\n",
       "      <td>...</td>\n",
       "      <td>0.062956</td>\n",
       "      <td>0.126103</td>\n",
       "      <td>0.000146</td>\n",
       "      <td>-1.951031</td>\n",
       "      <td>0.0</td>\n",
       "      <td>0.065074</td>\n",
       "      <td>5.388158</td>\n",
       "      <td>27.032254</td>\n",
       "      <td>0</td>\n",
       "      <td>2</td>\n",
       "    </tr>\n",
       "    <tr>\n",
       "      <th>2078</th>\n",
       "      <td>0.009938</td>\n",
       "      <td>-0.978677</td>\n",
       "      <td>-0.224800</td>\n",
       "      <td>0.006079</td>\n",
       "      <td>0.001599</td>\n",
       "      <td>0.007685</td>\n",
       "      <td>0.008896</td>\n",
       "      <td>0.001483</td>\n",
       "      <td>0.008896</td>\n",
       "      <td>0.020</td>\n",
       "      <td>...</td>\n",
       "      <td>0.062951</td>\n",
       "      <td>0.126068</td>\n",
       "      <td>0.000193</td>\n",
       "      <td>-1.949611</td>\n",
       "      <td>0.0</td>\n",
       "      <td>0.055145</td>\n",
       "      <td>5.388158</td>\n",
       "      <td>27.032251</td>\n",
       "      <td>0</td>\n",
       "      <td>2</td>\n",
       "    </tr>\n",
       "    <tr>\n",
       "      <th>2079</th>\n",
       "      <td>0.009646</td>\n",
       "      <td>-0.978754</td>\n",
       "      <td>-0.225246</td>\n",
       "      <td>0.004040</td>\n",
       "      <td>0.001436</td>\n",
       "      <td>0.005621</td>\n",
       "      <td>0.004448</td>\n",
       "      <td>0.001483</td>\n",
       "      <td>0.007413</td>\n",
       "      <td>0.016</td>\n",
       "      <td>...</td>\n",
       "      <td>0.062979</td>\n",
       "      <td>0.126105</td>\n",
       "      <td>0.000174</td>\n",
       "      <td>-1.943861</td>\n",
       "      <td>0.0</td>\n",
       "      <td>0.064473</td>\n",
       "      <td>5.388158</td>\n",
       "      <td>27.032249</td>\n",
       "      <td>0</td>\n",
       "      <td>2</td>\n",
       "    </tr>\n",
       "  </tbody>\n",
       "</table>\n",
       "<p>1306 rows × 147 columns</p>\n",
       "</div>"
      ],
      "text/plain": [
       "      acc_t-Mean-1  acc_t-Mean-2  acc_t-Mean-3  acc_t-STD-1  acc_t-STD-2  \\\n",
       "122       0.011815     -0.980262     -0.221969     0.000893     0.000790   \n",
       "123       0.011954     -0.980415     -0.222108     0.000643     0.000654   \n",
       "124       0.012031     -0.980062     -0.222523     0.000723     0.000742   \n",
       "125       0.011738     -0.980077     -0.222108     0.000770     0.000917   \n",
       "126       0.011815     -0.980108     -0.222585     0.000821     0.001054   \n",
       "...            ...           ...           ...          ...          ...   \n",
       "2075      0.010246     -0.978938     -0.225092     0.013863     0.002882   \n",
       "2076      0.010292     -0.978969     -0.225062     0.014791     0.002762   \n",
       "2077      0.010169     -0.978477     -0.226108     0.009283     0.002106   \n",
       "2078      0.009938     -0.978677     -0.224800     0.006079     0.001599   \n",
       "2079      0.009646     -0.978754     -0.225246     0.004040     0.001436   \n",
       "\n",
       "      acc_t-STD-3  acc_t-Mad-1  acc_t-Mad-2  acc_t-Mad-3  acc_t-Max-1  ...  \\\n",
       "122      0.002267     0.000000     0.001483     0.002965        0.014  ...   \n",
       "123      0.002444     0.000000     0.001483     0.002965        0.013  ...   \n",
       "124      0.002348     0.001483     0.001483     0.002965        0.013  ...   \n",
       "125      0.002463     0.001483     0.001483     0.002965        0.013  ...   \n",
       "126      0.004235     0.000000     0.001483     0.004448        0.014  ...   \n",
       "...           ...          ...          ...          ...          ...  ...   \n",
       "2075     0.012576     0.010378     0.004448     0.016309        0.034  ...   \n",
       "2076     0.012091     0.017791     0.004448     0.016309        0.034  ...   \n",
       "2077     0.009401     0.011861     0.002965     0.014826        0.025  ...   \n",
       "2078     0.007685     0.008896     0.001483     0.008896        0.020  ...   \n",
       "2079     0.005621     0.004448     0.001483     0.007413        0.016  ...   \n",
       "\n",
       "      acc_f-SMA-mag  acc_f-Energy-mag  acc_f-IQR-mag  acc_f-ropy-mag  \\\n",
       "122        0.062956          0.126291       0.000091       -1.971255   \n",
       "123        0.062968          0.126337       0.000099       -1.971716   \n",
       "124        0.062976          0.126274       0.000138       -1.962763   \n",
       "125        0.062970          0.126253       0.000185       -1.963121   \n",
       "126        0.062943          0.126289       0.000080       -1.976088   \n",
       "...             ...               ...            ...             ...   \n",
       "2075       0.062998          0.126181       0.000198       -1.945451   \n",
       "2076       0.062995          0.126189       0.000131       -1.946485   \n",
       "2077       0.062956          0.126103       0.000146       -1.951031   \n",
       "2078       0.062951          0.126068       0.000193       -1.949611   \n",
       "2079       0.062979          0.126105       0.000174       -1.943861   \n",
       "\n",
       "      acc_f-MaxInds-mag  acc_f-MeanFreq-mag  acc_f-Skewness-mag  \\\n",
       "122                 0.0            0.046497            5.388159   \n",
       "123                 0.0            0.045397            5.388159   \n",
       "124                 0.0            0.046902            5.388158   \n",
       "125                 0.0            0.045907            5.388158   \n",
       "126                 0.0            0.035287            5.388158   \n",
       "...                 ...                 ...                 ...   \n",
       "2075                0.0            0.069499            5.388158   \n",
       "2076                0.0            0.068486            5.388158   \n",
       "2077                0.0            0.065074            5.388158   \n",
       "2078                0.0            0.055145            5.388158   \n",
       "2079                0.0            0.064473            5.388158   \n",
       "\n",
       "      acc_f-Kurtosis-mag  label  user  \n",
       "122            27.032254      0     1  \n",
       "123            27.032256      0     1  \n",
       "124            27.032251      0     1  \n",
       "125            27.032250      0     1  \n",
       "126            27.032253      0     1  \n",
       "...                  ...    ...   ...  \n",
       "2075           27.032250      0     2  \n",
       "2076           27.032254      0     2  \n",
       "2077           27.032254      0     2  \n",
       "2078           27.032251      0     2  \n",
       "2079           27.032249      0     2  \n",
       "\n",
       "[1306 rows x 147 columns]"
      ]
     },
     "execution_count": 37,
     "metadata": {},
     "output_type": "execute_result"
    }
   ],
   "source": [
    "df "
   ]
  },
  {
   "cell_type": "code",
   "execution_count": 40,
   "id": "269b608a",
   "metadata": {},
   "outputs": [
    {
     "data": {
      "text/plain": [
       "Counter({0: 424, 1: 163, 2: 250, 3: 265, 4: 204})"
      ]
     },
     "execution_count": 40,
     "metadata": {},
     "output_type": "execute_result"
    }
   ],
   "source": [
    "Counter(list(df.label))"
   ]
  },
  {
   "cell_type": "code",
   "execution_count": 7,
   "id": "a08e9aec",
   "metadata": {},
   "outputs": [],
   "source": [
    "#np.unique(df_bottom.label)"
   ]
  },
  {
   "cell_type": "code",
   "execution_count": 8,
   "id": "2d446775",
   "metadata": {},
   "outputs": [],
   "source": [
    "#np.unique(df_middle.label)"
   ]
  },
  {
   "cell_type": "code",
   "execution_count": 9,
   "id": "1d398c09",
   "metadata": {},
   "outputs": [],
   "source": [
    "#np.unique(df_upper.label)"
   ]
  },
  {
   "cell_type": "code",
   "execution_count": 41,
   "id": "7ee7eac6",
   "metadata": {},
   "outputs": [],
   "source": [
    "target_dir = \"/Users/y-nakamura/yugo_workspace/bar_exercise/data/clf_results/20210716\"\n",
    "os.chdir(target_dir)"
   ]
  },
  {
   "cell_type": "code",
   "execution_count": 42,
   "id": "a2aeb910",
   "metadata": {},
   "outputs": [],
   "source": [
    "val_type =  \"person-out\"\n",
    "#val_type =  \"10 fold\""
   ]
  },
  {
   "cell_type": "code",
   "execution_count": 48,
   "id": "4d05fa44",
   "metadata": {},
   "outputs": [],
   "source": [
    "condition = \"upper_PI_window64slide32_10-fold\"\n",
    "target_class = \"bar_exercise\"\n",
    "os.makedirs(condition, exist_ok=True)\n",
    "os.makedirs(condition +'/clf_reports', exist_ok=True)"
   ]
  },
  {
   "cell_type": "code",
   "execution_count": 53,
   "id": "4136ef74",
   "metadata": {},
   "outputs": [
    {
     "name": "stdout",
     "output_type": "stream",
     "text": [
      "RF\n"
     ]
    },
    {
     "name": "stderr",
     "output_type": "stream",
     "text": [
      "[Parallel(n_jobs=7)]: Using backend LokyBackend with 7 concurrent workers.\n",
      "[Parallel(n_jobs=7)]: Done   4 out of   8 | elapsed:    0.6s remaining:    0.6s\n",
      "[Parallel(n_jobs=7)]: Done   8 out of   8 | elapsed:    1.0s finished\n"
     ]
    },
    {
     "name": "stdout",
     "output_type": "stream",
     "text": [
      "RF fin\n",
      "ANN\n"
     ]
    },
    {
     "name": "stderr",
     "output_type": "stream",
     "text": [
      "[Parallel(n_jobs=7)]: Using backend LokyBackend with 7 concurrent workers.\n",
      "[Parallel(n_jobs=7)]: Done   4 out of   8 | elapsed:    1.1s remaining:    1.1s\n",
      "[Parallel(n_jobs=7)]: Done   8 out of   8 | elapsed:    1.8s finished\n"
     ]
    },
    {
     "name": "stdout",
     "output_type": "stream",
     "text": [
      "ANN fin\n",
      "LR\n"
     ]
    },
    {
     "name": "stderr",
     "output_type": "stream",
     "text": [
      "[Parallel(n_jobs=7)]: Using backend LokyBackend with 7 concurrent workers.\n",
      "[Parallel(n_jobs=7)]: Done   4 out of   8 | elapsed:    0.1s remaining:    0.1s\n",
      "[Parallel(n_jobs=7)]: Done   8 out of   8 | elapsed:    0.2s finished\n"
     ]
    },
    {
     "name": "stdout",
     "output_type": "stream",
     "text": [
      "LR fin\n",
      "DT\n"
     ]
    },
    {
     "name": "stderr",
     "output_type": "stream",
     "text": [
      "[Parallel(n_jobs=7)]: Using backend LokyBackend with 7 concurrent workers.\n",
      "[Parallel(n_jobs=7)]: Done   4 out of   8 | elapsed:    0.1s remaining:    0.1s\n",
      "[Parallel(n_jobs=7)]: Done   8 out of   8 | elapsed:    0.2s finished\n"
     ]
    },
    {
     "name": "stdout",
     "output_type": "stream",
     "text": [
      "DT fin\n",
      "ET\n"
     ]
    },
    {
     "name": "stderr",
     "output_type": "stream",
     "text": [
      "[Parallel(n_jobs=7)]: Using backend LokyBackend with 7 concurrent workers.\n",
      "[Parallel(n_jobs=7)]: Done   4 out of   8 | elapsed:    0.0s remaining:    0.0s\n",
      "[Parallel(n_jobs=7)]: Done   8 out of   8 | elapsed:    0.0s finished\n"
     ]
    },
    {
     "name": "stdout",
     "output_type": "stream",
     "text": [
      "ET fin\n",
      "LR\n"
     ]
    },
    {
     "name": "stderr",
     "output_type": "stream",
     "text": [
      "[Parallel(n_jobs=7)]: Using backend LokyBackend with 7 concurrent workers.\n",
      "[Parallel(n_jobs=7)]: Done   4 out of   8 | elapsed:    0.1s remaining:    0.1s\n",
      "[Parallel(n_jobs=7)]: Done   8 out of   8 | elapsed:    0.1s finished\n"
     ]
    },
    {
     "name": "stdout",
     "output_type": "stream",
     "text": [
      "LR fin\n",
      "NB\n"
     ]
    },
    {
     "name": "stderr",
     "output_type": "stream",
     "text": [
      "[Parallel(n_jobs=7)]: Using backend LokyBackend with 7 concurrent workers.\n",
      "[Parallel(n_jobs=7)]: Done   4 out of   8 | elapsed:    0.0s remaining:    0.0s\n",
      "[Parallel(n_jobs=7)]: Done   8 out of   8 | elapsed:    0.0s finished\n"
     ]
    },
    {
     "name": "stdout",
     "output_type": "stream",
     "text": [
      "NB fin\n",
      "SVM\n"
     ]
    },
    {
     "name": "stderr",
     "output_type": "stream",
     "text": [
      "[Parallel(n_jobs=7)]: Using backend LokyBackend with 7 concurrent workers.\n",
      "[Parallel(n_jobs=7)]: Done   4 out of   8 | elapsed:    0.1s remaining:    0.1s\n",
      "[Parallel(n_jobs=7)]: Done   8 out of   8 | elapsed:    0.2s finished\n"
     ]
    },
    {
     "name": "stdout",
     "output_type": "stream",
     "text": [
      "SVM fin\n",
      "KNN\n"
     ]
    },
    {
     "name": "stderr",
     "output_type": "stream",
     "text": [
      "[Parallel(n_jobs=7)]: Using backend LokyBackend with 7 concurrent workers.\n",
      "[Parallel(n_jobs=7)]: Done   4 out of   8 | elapsed:    0.0s remaining:    0.0s\n",
      "[Parallel(n_jobs=7)]: Done   8 out of   8 | elapsed:    0.0s finished\n"
     ]
    },
    {
     "name": "stdout",
     "output_type": "stream",
     "text": [
      "KNN fin\n",
      "LightGBM\n"
     ]
    },
    {
     "name": "stderr",
     "output_type": "stream",
     "text": [
      "[Parallel(n_jobs=7)]: Using backend LokyBackend with 7 concurrent workers.\n",
      "[Parallel(n_jobs=7)]: Done   4 out of   8 | elapsed:    3.6s remaining:    3.6s\n",
      "[Parallel(n_jobs=7)]: Done   8 out of   8 | elapsed:    5.5s finished\n"
     ]
    },
    {
     "name": "stdout",
     "output_type": "stream",
     "text": [
      "LightGBM fin\n"
     ]
    }
   ],
   "source": [
    "features_list = acc_feature145_names\n",
    "run_closs_val_PI(df, target_dir, target_class, condition, classifiers, features_list)"
   ]
  },
  {
   "cell_type": "code",
   "execution_count": 26,
   "id": "b353f027",
   "metadata": {},
   "outputs": [
    {
     "name": "stdout",
     "output_type": "stream",
     "text": [
      "RF\n",
      "10 fold\n"
     ]
    },
    {
     "name": "stderr",
     "output_type": "stream",
     "text": [
      "[Parallel(n_jobs=7)]: Using backend LokyBackend with 7 concurrent workers.\n",
      "[Parallel(n_jobs=7)]: Done   8 out of  10 | elapsed:    2.1s remaining:    0.5s\n",
      "[Parallel(n_jobs=7)]: Done  10 out of  10 | elapsed:    2.1s finished\n"
     ]
    },
    {
     "name": "stdout",
     "output_type": "stream",
     "text": [
      "RF fin\n",
      "ANN\n",
      "10 fold\n"
     ]
    },
    {
     "name": "stderr",
     "output_type": "stream",
     "text": [
      "[Parallel(n_jobs=7)]: Using backend LokyBackend with 7 concurrent workers.\n",
      "[Parallel(n_jobs=7)]: Done   8 out of  10 | elapsed:    4.5s remaining:    1.1s\n",
      "[Parallel(n_jobs=7)]: Done  10 out of  10 | elapsed:    4.5s finished\n"
     ]
    },
    {
     "name": "stdout",
     "output_type": "stream",
     "text": [
      "ANN fin\n",
      "LR\n",
      "10 fold\n"
     ]
    },
    {
     "name": "stderr",
     "output_type": "stream",
     "text": [
      "[Parallel(n_jobs=7)]: Using backend LokyBackend with 7 concurrent workers.\n",
      "[Parallel(n_jobs=7)]: Done   8 out of  10 | elapsed:    0.4s remaining:    0.1s\n",
      "[Parallel(n_jobs=7)]: Done  10 out of  10 | elapsed:    0.4s finished\n"
     ]
    },
    {
     "name": "stdout",
     "output_type": "stream",
     "text": [
      "LR fin\n",
      "DT\n",
      "10 fold\n"
     ]
    },
    {
     "name": "stderr",
     "output_type": "stream",
     "text": [
      "[Parallel(n_jobs=7)]: Using backend LokyBackend with 7 concurrent workers.\n",
      "[Parallel(n_jobs=7)]: Done   8 out of  10 | elapsed:    0.4s remaining:    0.1s\n",
      "[Parallel(n_jobs=7)]: Done  10 out of  10 | elapsed:    0.6s finished\n"
     ]
    },
    {
     "name": "stdout",
     "output_type": "stream",
     "text": [
      "DT fin\n",
      "ET\n",
      "10 fold\n",
      "ET fin\n",
      "LR\n",
      "10 fold\n"
     ]
    },
    {
     "name": "stderr",
     "output_type": "stream",
     "text": [
      "[Parallel(n_jobs=7)]: Using backend LokyBackend with 7 concurrent workers.\n",
      "[Parallel(n_jobs=7)]: Done   8 out of  10 | elapsed:    0.1s remaining:    0.0s\n",
      "[Parallel(n_jobs=7)]: Done  10 out of  10 | elapsed:    0.1s finished\n",
      "[Parallel(n_jobs=7)]: Using backend LokyBackend with 7 concurrent workers.\n",
      "[Parallel(n_jobs=7)]: Done   8 out of  10 | elapsed:    0.3s remaining:    0.1s\n",
      "[Parallel(n_jobs=7)]: Done  10 out of  10 | elapsed:    0.3s finished\n"
     ]
    },
    {
     "name": "stdout",
     "output_type": "stream",
     "text": [
      "LR fin\n",
      "NB\n",
      "10 fold\n"
     ]
    },
    {
     "name": "stderr",
     "output_type": "stream",
     "text": [
      "[Parallel(n_jobs=7)]: Using backend LokyBackend with 7 concurrent workers.\n",
      "[Parallel(n_jobs=7)]: Done   8 out of  10 | elapsed:    0.1s remaining:    0.0s\n",
      "[Parallel(n_jobs=7)]: Done  10 out of  10 | elapsed:    0.1s finished\n"
     ]
    },
    {
     "name": "stdout",
     "output_type": "stream",
     "text": [
      "NB fin\n",
      "SVM\n",
      "10 fold\n"
     ]
    },
    {
     "name": "stderr",
     "output_type": "stream",
     "text": [
      "[Parallel(n_jobs=7)]: Using backend LokyBackend with 7 concurrent workers.\n",
      "[Parallel(n_jobs=7)]: Done   8 out of  10 | elapsed:    0.8s remaining:    0.2s\n",
      "[Parallel(n_jobs=7)]: Done  10 out of  10 | elapsed:    0.8s finished\n"
     ]
    },
    {
     "name": "stdout",
     "output_type": "stream",
     "text": [
      "SVM fin\n",
      "KNN\n",
      "10 fold\n"
     ]
    },
    {
     "name": "stderr",
     "output_type": "stream",
     "text": [
      "[Parallel(n_jobs=7)]: Using backend LokyBackend with 7 concurrent workers.\n",
      "[Parallel(n_jobs=7)]: Done   8 out of  10 | elapsed:    0.1s remaining:    0.0s\n",
      "[Parallel(n_jobs=7)]: Done  10 out of  10 | elapsed:    0.1s finished\n"
     ]
    },
    {
     "name": "stdout",
     "output_type": "stream",
     "text": [
      "KNN fin\n",
      "LightGBM\n",
      "10 fold\n"
     ]
    },
    {
     "name": "stderr",
     "output_type": "stream",
     "text": [
      "[Parallel(n_jobs=7)]: Using backend LokyBackend with 7 concurrent workers.\n",
      "[Parallel(n_jobs=7)]: Done   8 out of  10 | elapsed:    5.3s remaining:    1.3s\n",
      "[Parallel(n_jobs=7)]: Done  10 out of  10 | elapsed:    5.3s finished\n"
     ]
    },
    {
     "name": "stdout",
     "output_type": "stream",
     "text": [
      "LightGBM fin\n"
     ]
    }
   ],
   "source": [
    "condition = \"middle_window64slide32_10-fold\"\n",
    "target_class = \"bar_exercise\"\n",
    "os.makedirs(condition, exist_ok=True)\n",
    "os.makedirs(condition +'/clf_reports', exist_ok=True)\n",
    "\n",
    "features_list = acc_feature145_names\n",
    "run_closs_val(df_middle, target_dir, target_class, condition, classifiers, features_list, val_type)"
   ]
  },
  {
   "cell_type": "code",
   "execution_count": 27,
   "id": "4dbe2511",
   "metadata": {},
   "outputs": [
    {
     "name": "stdout",
     "output_type": "stream",
     "text": [
      "RF\n",
      "10 fold\n"
     ]
    },
    {
     "name": "stderr",
     "output_type": "stream",
     "text": [
      "[Parallel(n_jobs=7)]: Using backend LokyBackend with 7 concurrent workers.\n",
      "[Parallel(n_jobs=7)]: Done   8 out of  10 | elapsed:    1.6s remaining:    0.4s\n",
      "[Parallel(n_jobs=7)]: Done  10 out of  10 | elapsed:    1.6s finished\n"
     ]
    },
    {
     "name": "stdout",
     "output_type": "stream",
     "text": [
      "RF fin\n",
      "ANN\n",
      "10 fold\n"
     ]
    },
    {
     "name": "stderr",
     "output_type": "stream",
     "text": [
      "[Parallel(n_jobs=7)]: Using backend LokyBackend with 7 concurrent workers.\n",
      "[Parallel(n_jobs=7)]: Done   8 out of  10 | elapsed:    3.0s remaining:    0.8s\n",
      "[Parallel(n_jobs=7)]: Done  10 out of  10 | elapsed:    3.0s finished\n"
     ]
    },
    {
     "name": "stdout",
     "output_type": "stream",
     "text": [
      "ANN fin\n",
      "LR\n",
      "10 fold\n"
     ]
    },
    {
     "name": "stderr",
     "output_type": "stream",
     "text": [
      "[Parallel(n_jobs=7)]: Using backend LokyBackend with 7 concurrent workers.\n",
      "[Parallel(n_jobs=7)]: Done   8 out of  10 | elapsed:    0.2s remaining:    0.1s\n",
      "[Parallel(n_jobs=7)]: Done  10 out of  10 | elapsed:    0.2s finished\n"
     ]
    },
    {
     "name": "stdout",
     "output_type": "stream",
     "text": [
      "LR fin\n",
      "DT\n",
      "10 fold\n"
     ]
    },
    {
     "name": "stderr",
     "output_type": "stream",
     "text": [
      "[Parallel(n_jobs=7)]: Using backend LokyBackend with 7 concurrent workers.\n",
      "[Parallel(n_jobs=7)]: Done   8 out of  10 | elapsed:    0.3s remaining:    0.1s\n",
      "[Parallel(n_jobs=7)]: Done  10 out of  10 | elapsed:    0.3s finished\n"
     ]
    },
    {
     "name": "stdout",
     "output_type": "stream",
     "text": [
      "DT fin\n",
      "ET\n",
      "10 fold\n"
     ]
    },
    {
     "name": "stderr",
     "output_type": "stream",
     "text": [
      "[Parallel(n_jobs=7)]: Using backend LokyBackend with 7 concurrent workers.\n",
      "[Parallel(n_jobs=7)]: Done   8 out of  10 | elapsed:    0.0s remaining:    0.0s\n",
      "[Parallel(n_jobs=7)]: Done  10 out of  10 | elapsed:    0.0s finished\n"
     ]
    },
    {
     "name": "stdout",
     "output_type": "stream",
     "text": [
      "ET fin\n",
      "LR\n",
      "10 fold\n"
     ]
    },
    {
     "name": "stderr",
     "output_type": "stream",
     "text": [
      "[Parallel(n_jobs=7)]: Using backend LokyBackend with 7 concurrent workers.\n",
      "[Parallel(n_jobs=7)]: Done   8 out of  10 | elapsed:    0.2s remaining:    0.1s\n",
      "[Parallel(n_jobs=7)]: Done  10 out of  10 | elapsed:    0.2s finished\n"
     ]
    },
    {
     "name": "stdout",
     "output_type": "stream",
     "text": [
      "LR fin\n",
      "NB\n",
      "10 fold\n"
     ]
    },
    {
     "name": "stderr",
     "output_type": "stream",
     "text": [
      "[Parallel(n_jobs=7)]: Using backend LokyBackend with 7 concurrent workers.\n",
      "[Parallel(n_jobs=7)]: Done   8 out of  10 | elapsed:    0.0s remaining:    0.0s\n",
      "[Parallel(n_jobs=7)]: Done  10 out of  10 | elapsed:    0.1s finished\n"
     ]
    },
    {
     "name": "stdout",
     "output_type": "stream",
     "text": [
      "NB fin\n",
      "SVM\n",
      "10 fold\n"
     ]
    },
    {
     "name": "stderr",
     "output_type": "stream",
     "text": [
      "[Parallel(n_jobs=7)]: Using backend LokyBackend with 7 concurrent workers.\n",
      "[Parallel(n_jobs=7)]: Done   8 out of  10 | elapsed:    0.4s remaining:    0.1s\n",
      "[Parallel(n_jobs=7)]: Done  10 out of  10 | elapsed:    0.4s finished\n"
     ]
    },
    {
     "name": "stdout",
     "output_type": "stream",
     "text": [
      "SVM fin\n",
      "KNN\n",
      "10 fold\n"
     ]
    },
    {
     "name": "stderr",
     "output_type": "stream",
     "text": [
      "[Parallel(n_jobs=7)]: Using backend LokyBackend with 7 concurrent workers.\n",
      "[Parallel(n_jobs=7)]: Done   8 out of  10 | elapsed:    0.1s remaining:    0.0s\n",
      "[Parallel(n_jobs=7)]: Done  10 out of  10 | elapsed:    0.1s finished\n"
     ]
    },
    {
     "name": "stdout",
     "output_type": "stream",
     "text": [
      "KNN fin\n",
      "LightGBM\n",
      "10 fold\n"
     ]
    },
    {
     "name": "stderr",
     "output_type": "stream",
     "text": [
      "[Parallel(n_jobs=7)]: Using backend LokyBackend with 7 concurrent workers.\n",
      "[Parallel(n_jobs=7)]: Done   8 out of  10 | elapsed:    5.2s remaining:    1.3s\n",
      "[Parallel(n_jobs=7)]: Done  10 out of  10 | elapsed:    5.4s finished\n"
     ]
    },
    {
     "name": "stdout",
     "output_type": "stream",
     "text": [
      "LightGBM fin\n"
     ]
    }
   ],
   "source": [
    "condition = \"upper_window64slide32_10-fold\"\n",
    "target_class = \"bar_exercise\"\n",
    "os.makedirs(condition, exist_ok=True)\n",
    "os.makedirs(condition +'/clf_reports', exist_ok=True)\n",
    "\n",
    "features_list = acc_feature145_names\n",
    "run_closs_val(df_upper, target_dir, target_class, condition, classifiers, features_list, val_type)"
   ]
  },
  {
   "cell_type": "markdown",
   "id": "9cf403a3",
   "metadata": {},
   "source": [
    "# Majority vote"
   ]
  },
  {
   "cell_type": "code",
   "execution_count": 54,
   "id": "7babe645",
   "metadata": {},
   "outputs": [],
   "source": [
    "def sliding_window(data, window, step_size):\n",
    "    shape = (int(data.shape[-1] / window * window / step_size - 1), window)\n",
    "    strides = (data.strides[-1] * step_size, data.strides[-1])\n",
    "    return np.lib.stride_tricks.as_strided(data, shape=shape, strides=strides)\n",
    "\n",
    "def majority_filter(y_pred, window_size):\n",
    "    sliding_y_pred  = sliding_window(y_pred, window_size, 1)\n",
    "    voted_y_pred = []\n",
    "    for y_list in sliding_y_pred:\n",
    "        voted_y_pred.append(collections.Counter(y_list).most_common()[0][0])\n",
    "    voted_y_pred.append(y_list[-1])\n",
    "    \n",
    "    return voted_y_pred"
   ]
  },
  {
   "cell_type": "code",
   "execution_count": 56,
   "id": "9d85eccf",
   "metadata": {},
   "outputs": [],
   "source": [
    "def run_majority_vote(target_dir, target_class, in_condition, out_condition, vote_num):\n",
    "    print(in_condition, \",\", out_condition)\n",
    "    os.makedirs(out_condition, exist_ok=True)\n",
    "    target_files = [tf for tf in os.listdir(target_dir + \"/\" + in_condition )  if tf.startswith( in_condition+ '_'+target_class +'_y_pred')]\n",
    "    target_files.sort()\n",
    "    print(target_files)\n",
    "    print(target_files[0])\n",
    "    os.makedirs(out_condition +'/clf_reports', exist_ok=True)\n",
    "    for target_file in target_files:\n",
    "        df = pd.read_csv(target_dir  + \"/\" + in_condition + \"/\"+ target_file, index_col=[0])\n",
    "        model_name = target_file[:-4].split(\"_\")[-1]\n",
    "        #print(model_name)\n",
    "\n",
    "        output_file = target_dir + \"/\"+out_condition + '/'+out_condition + '_'+ target_class + '_y_pred_true_user_' + model_name +'.csv'\n",
    "\n",
    "            \n",
    "        df.y_pred = majority_filter(df.y_pred.values, vote_num)\n",
    "\n",
    "        df.to_csv(output_file)\n",
    "\n",
    "        labels = np.unique(df.y)\n",
    "\n",
    "        cr_dict = classification_report(df.y, df.y_pred, output_dict=True)\n",
    "\n",
    "        cr_df = pd.DataFrame(cr_dict).T\n",
    "\n",
    "        cr_df.to_csv( target_dir + \"/\"+out_condition+ '/clf_reports' + '/'+out_condition + '_'+ target_class+ '_result_report_'+model_name+'.csv')\n",
    "\n",
    "        cm = confusion_matrix(df.y, df.y_pred, labels=labels)\n",
    "        cm_df = pd.DataFrame(cm, index=labels, columns=labels)\n",
    "        cm_file_name =  target_dir + \"/\"+out_condition+ '/'+out_condition + '_'+ target_class + '_result_cm_' + model_name + \".png\"\n",
    "        generate_cm(cm_df, index=labels, columns=labels, filename = cm_file_name)\n"
   ]
  },
  {
   "cell_type": "code",
   "execution_count": 57,
   "id": "54bd0907",
   "metadata": {
    "scrolled": true
   },
   "outputs": [
    {
     "name": "stdout",
     "output_type": "stream",
     "text": [
      "RF\n"
     ]
    },
    {
     "name": "stderr",
     "output_type": "stream",
     "text": [
      "[Parallel(n_jobs=7)]: Using backend LokyBackend with 7 concurrent workers.\n",
      "[Parallel(n_jobs=7)]: Done   4 out of   8 | elapsed:    0.7s remaining:    0.7s\n",
      "[Parallel(n_jobs=7)]: Done   8 out of   8 | elapsed:    1.1s finished\n"
     ]
    },
    {
     "name": "stdout",
     "output_type": "stream",
     "text": [
      "RF fin\n",
      "ANN\n"
     ]
    },
    {
     "name": "stderr",
     "output_type": "stream",
     "text": [
      "[Parallel(n_jobs=7)]: Using backend LokyBackend with 7 concurrent workers.\n",
      "[Parallel(n_jobs=7)]: Done   4 out of   8 | elapsed:    1.1s remaining:    1.1s\n",
      "[Parallel(n_jobs=7)]: Done   8 out of   8 | elapsed:    1.7s finished\n"
     ]
    },
    {
     "name": "stdout",
     "output_type": "stream",
     "text": [
      "ANN fin\n",
      "LR\n"
     ]
    },
    {
     "name": "stderr",
     "output_type": "stream",
     "text": [
      "[Parallel(n_jobs=7)]: Using backend LokyBackend with 7 concurrent workers.\n",
      "[Parallel(n_jobs=7)]: Done   4 out of   8 | elapsed:    0.1s remaining:    0.1s\n",
      "[Parallel(n_jobs=7)]: Done   8 out of   8 | elapsed:    0.1s finished\n"
     ]
    },
    {
     "name": "stdout",
     "output_type": "stream",
     "text": [
      "LR fin\n",
      "DT\n"
     ]
    },
    {
     "name": "stderr",
     "output_type": "stream",
     "text": [
      "[Parallel(n_jobs=7)]: Using backend LokyBackend with 7 concurrent workers.\n",
      "[Parallel(n_jobs=7)]: Done   4 out of   8 | elapsed:    0.1s remaining:    0.1s\n",
      "[Parallel(n_jobs=7)]: Done   8 out of   8 | elapsed:    0.2s finished\n"
     ]
    },
    {
     "name": "stdout",
     "output_type": "stream",
     "text": [
      "DT fin\n",
      "ET\n"
     ]
    },
    {
     "name": "stderr",
     "output_type": "stream",
     "text": [
      "[Parallel(n_jobs=7)]: Using backend LokyBackend with 7 concurrent workers.\n",
      "[Parallel(n_jobs=7)]: Done   4 out of   8 | elapsed:    0.0s remaining:    0.0s\n",
      "[Parallel(n_jobs=7)]: Done   8 out of   8 | elapsed:    0.0s finished\n"
     ]
    },
    {
     "name": "stdout",
     "output_type": "stream",
     "text": [
      "ET fin\n",
      "LR\n"
     ]
    },
    {
     "name": "stderr",
     "output_type": "stream",
     "text": [
      "[Parallel(n_jobs=7)]: Using backend LokyBackend with 7 concurrent workers.\n",
      "[Parallel(n_jobs=7)]: Done   4 out of   8 | elapsed:    0.1s remaining:    0.1s\n",
      "[Parallel(n_jobs=7)]: Done   8 out of   8 | elapsed:    0.1s finished\n"
     ]
    },
    {
     "name": "stdout",
     "output_type": "stream",
     "text": [
      "LR fin\n",
      "NB\n"
     ]
    },
    {
     "name": "stderr",
     "output_type": "stream",
     "text": [
      "[Parallel(n_jobs=7)]: Using backend LokyBackend with 7 concurrent workers.\n",
      "[Parallel(n_jobs=7)]: Done   4 out of   8 | elapsed:    0.0s remaining:    0.0s\n",
      "[Parallel(n_jobs=7)]: Done   8 out of   8 | elapsed:    0.0s finished\n"
     ]
    },
    {
     "name": "stdout",
     "output_type": "stream",
     "text": [
      "NB fin\n",
      "SVM\n"
     ]
    },
    {
     "name": "stderr",
     "output_type": "stream",
     "text": [
      "[Parallel(n_jobs=7)]: Using backend LokyBackend with 7 concurrent workers.\n",
      "[Parallel(n_jobs=7)]: Done   4 out of   8 | elapsed:    0.1s remaining:    0.1s\n",
      "[Parallel(n_jobs=7)]: Done   8 out of   8 | elapsed:    0.2s finished\n"
     ]
    },
    {
     "name": "stdout",
     "output_type": "stream",
     "text": [
      "SVM fin\n",
      "KNN\n"
     ]
    },
    {
     "name": "stderr",
     "output_type": "stream",
     "text": [
      "[Parallel(n_jobs=7)]: Using backend LokyBackend with 7 concurrent workers.\n",
      "[Parallel(n_jobs=7)]: Done   4 out of   8 | elapsed:    0.0s remaining:    0.0s\n",
      "[Parallel(n_jobs=7)]: Done   8 out of   8 | elapsed:    0.0s finished\n"
     ]
    },
    {
     "name": "stdout",
     "output_type": "stream",
     "text": [
      "KNN fin\n",
      "LightGBM\n"
     ]
    },
    {
     "name": "stderr",
     "output_type": "stream",
     "text": [
      "[Parallel(n_jobs=7)]: Using backend LokyBackend with 7 concurrent workers.\n",
      "[Parallel(n_jobs=7)]: Done   4 out of   8 | elapsed:    3.4s remaining:    3.4s\n",
      "[Parallel(n_jobs=7)]: Done   8 out of   8 | elapsed:    5.3s finished\n"
     ]
    },
    {
     "name": "stdout",
     "output_type": "stream",
     "text": [
      "LightGBM fin\n"
     ]
    }
   ],
   "source": [
    "condition = \"upper_window64slide32_LOPO\"\n",
    "target_class = \"bar_exercise\"\n",
    "os.makedirs(condition, exist_ok=True)\n",
    "os.makedirs(condition +'/clf_reports', exist_ok=True)\n",
    "\n",
    "features_list = acc_feature145_names\n",
    "run_closs_val_PI(df, target_dir, target_class, condition, classifiers, features_list)"
   ]
  },
  {
   "cell_type": "code",
   "execution_count": 65,
   "id": "ce7c7c2f",
   "metadata": {},
   "outputs": [
    {
     "name": "stdout",
     "output_type": "stream",
     "text": [
      "upper_window64slide32_LOPO , upper_window64slide32_LOPO_majority10\n",
      "['upper_window64slide32_LOPO_bar_exercise_y_pred_true_user_ANN.csv', 'upper_window64slide32_LOPO_bar_exercise_y_pred_true_user_DT.csv', 'upper_window64slide32_LOPO_bar_exercise_y_pred_true_user_ET.csv', 'upper_window64slide32_LOPO_bar_exercise_y_pred_true_user_KNN.csv', 'upper_window64slide32_LOPO_bar_exercise_y_pred_true_user_LR.csv', 'upper_window64slide32_LOPO_bar_exercise_y_pred_true_user_LightGBM.csv', 'upper_window64slide32_LOPO_bar_exercise_y_pred_true_user_NB.csv', 'upper_window64slide32_LOPO_bar_exercise_y_pred_true_user_RF.csv', 'upper_window64slide32_LOPO_bar_exercise_y_pred_true_user_SVM.csv']\n",
      "upper_window64slide32_LOPO_bar_exercise_y_pred_true_user_ANN.csv\n"
     ]
    }
   ],
   "source": [
    "in_condition = \"upper_window64slide32_LOPO\"\n",
    "vote_num = 10\n",
    "out_condition = \"upper_window64slide32_LOPO_majority\" + str(vote_num)\n",
    "\n",
    "target_class = \"bar_exercise\"\n",
    "run_majority_vote(target_dir, target_class, in_condition, out_condition, vote_num)\n"
   ]
  },
  {
   "cell_type": "code",
   "execution_count": 66,
   "id": "3f1c5dd2",
   "metadata": {},
   "outputs": [
    {
     "name": "stdout",
     "output_type": "stream",
     "text": [
      "upper_window64slide32_LOPO , upper_window64slide32_LOPO_majority5\n",
      "['upper_window64slide32_LOPO_bar_exercise_y_pred_true_user_ANN.csv', 'upper_window64slide32_LOPO_bar_exercise_y_pred_true_user_DT.csv', 'upper_window64slide32_LOPO_bar_exercise_y_pred_true_user_ET.csv', 'upper_window64slide32_LOPO_bar_exercise_y_pred_true_user_KNN.csv', 'upper_window64slide32_LOPO_bar_exercise_y_pred_true_user_LR.csv', 'upper_window64slide32_LOPO_bar_exercise_y_pred_true_user_LightGBM.csv', 'upper_window64slide32_LOPO_bar_exercise_y_pred_true_user_NB.csv', 'upper_window64slide32_LOPO_bar_exercise_y_pred_true_user_RF.csv', 'upper_window64slide32_LOPO_bar_exercise_y_pred_true_user_SVM.csv']\n",
      "upper_window64slide32_LOPO_bar_exercise_y_pred_true_user_ANN.csv\n"
     ]
    }
   ],
   "source": [
    "in_condition = \"upper_window64slide32_LOPO\"\n",
    "vote_num = 5\n",
    "out_condition = \"upper_window64slide32_LOPO_majority\" + str(vote_num)\n",
    "\n",
    "target_class = \"bar_exercise\"\n",
    "run_majority_vote(target_dir, target_class, in_condition, out_condition, vote_num)\n"
   ]
  },
  {
   "cell_type": "code",
   "execution_count": null,
   "id": "2806b3db",
   "metadata": {},
   "outputs": [],
   "source": [
    "in_condition = \"upper_window64slide32_LOPO\"\n",
    "vote_num = 3\n",
    "out_condition = \"upper_window64slide32_LOPO_majority\" + str(vote_num)\n",
    "\n",
    "target_class = \"bar_exercise\"\n",
    "run_majority_vote(target_dir, target_class, in_condition, out_condition, vote_num)\n"
   ]
  },
  {
   "cell_type": "code",
   "execution_count": null,
   "id": "e74eda8e",
   "metadata": {},
   "outputs": [],
   "source": []
  }
 ],
 "metadata": {
  "kernelspec": {
   "display_name": "Python 3",
   "language": "python",
   "name": "python3"
  },
  "language_info": {
   "codemirror_mode": {
    "name": "ipython",
    "version": 3
   },
   "file_extension": ".py",
   "mimetype": "text/x-python",
   "name": "python",
   "nbconvert_exporter": "python",
   "pygments_lexer": "ipython3",
   "version": "3.8.10"
  },
  "toc": {
   "base_numbering": 1,
   "nav_menu": {},
   "number_sections": true,
   "sideBar": true,
   "skip_h1_title": false,
   "title_cell": "Table of Contents",
   "title_sidebar": "Contents",
   "toc_cell": false,
   "toc_position": {},
   "toc_section_display": true,
   "toc_window_display": false
  },
  "varInspector": {
   "cols": {
    "lenName": 16,
    "lenType": 16,
    "lenVar": 40
   },
   "kernels_config": {
    "python": {
     "delete_cmd_postfix": "",
     "delete_cmd_prefix": "del ",
     "library": "var_list.py",
     "varRefreshCmd": "print(var_dic_list())"
    },
    "r": {
     "delete_cmd_postfix": ") ",
     "delete_cmd_prefix": "rm(",
     "library": "var_list.r",
     "varRefreshCmd": "cat(var_dic_list()) "
    }
   },
   "types_to_exclude": [
    "module",
    "function",
    "builtin_function_or_method",
    "instance",
    "_Feature"
   ],
   "window_display": false
  }
 },
 "nbformat": 4,
 "nbformat_minor": 5
}
