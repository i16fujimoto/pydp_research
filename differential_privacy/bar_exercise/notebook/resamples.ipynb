{
 "cells": [
  {
   "cell_type": "code",
   "execution_count": 47,
   "id": "1a0231f6",
   "metadata": {},
   "outputs": [],
   "source": [
    "from imblearn.under_sampling import RandomUnderSampler\n",
    "from imblearn.datasets import make_imbalance\n",
    "import os\n",
    "import pandas as pd\n",
    "import seaborn as sns"
   ]
  },
  {
   "cell_type": "code",
   "execution_count": 48,
   "id": "38d53ea3",
   "metadata": {},
   "outputs": [],
   "source": [
    "from collections import Counter\n",
    "from sklearn.manifold import TSNE\n",
    "import matplotlib.pyplot as plt"
   ]
  },
  {
   "cell_type": "code",
   "execution_count": 59,
   "id": "2d68021b",
   "metadata": {},
   "outputs": [],
   "source": [
    "from sklearn.preprocessing import StandardScaler\n",
    "from sklearn.model_selection import LeaveOneGroupOut\n",
    "from sklearn.model_selection import StratifiedKFold\n",
    "from lightgbm import LGBMClassifier\n",
    "from sklearn.pipeline import make_pipeline\n",
    "from sklearn.model_selection import cross_val_predict\n",
    "from sklearn.metrics import classification_report\n",
    "from sklearn.metrics import confusion_matrix"
   ]
  },
  {
   "cell_type": "code",
   "execution_count": 74,
   "id": "93c000b9",
   "metadata": {},
   "outputs": [],
   "source": [
    "all_feature145_names = ['t-Mean-1',\n",
    " 't-Mean-2',\n",
    " 't-Mean-3',\n",
    " 't-STD-1',\n",
    " 't-STD-2',\n",
    " 't-STD-3',\n",
    " 't-Mad-1',\n",
    " 't-Mad-2',\n",
    " 't-Mad-3',\n",
    " 't-Max-1',\n",
    " 't-Max-2',\n",
    " 't-Max-3',\n",
    " 't-Min-1',\n",
    " 't-Min-2',\n",
    " 't-Min-3',\n",
    " 't-SMA-1',\n",
    " 't-Energy-1',\n",
    " 't-Energy-2',\n",
    " 't-Energy-3',\n",
    " 't-IQR-1',\n",
    " 't-IQR-2',\n",
    " 't-IQR-3',\n",
    " 't-ropy-1',\n",
    " 't-ropy-2',\n",
    " 't-ropy-3',\n",
    " 't-ARCoeff-1',\n",
    " 't-ARCoeff-2',\n",
    " 't-ARCoeff-3',\n",
    " 't-ARCoeff-4',\n",
    " 't-ARCoeff-5',\n",
    " 't-ARCoeff-6',\n",
    " 't-ARCoeff-7',\n",
    " 't-ARCoeff-8',\n",
    " 't-ARCoeff-9',\n",
    " 't-ARCoeff-10',\n",
    " 't-ARCoeff-11',\n",
    " 't-ARCoeff-12',\n",
    " 't-Correlation-1',\n",
    " 't-Correlation-2',\n",
    " 't-Correlation-3',\n",
    " 't-Mean-mag',\n",
    " 't-STD-mag',\n",
    " 't-Mad-mag',\n",
    " 't-Max-mag',\n",
    " 't-Min-mag',\n",
    " 't-SMA-mag',\n",
    " 't-Energy-mag',\n",
    " 't-IQR-mag',\n",
    " 't-ropy-mag',\n",
    " 't-ARCoeff-mag1',\n",
    " 't-ARCoeff-mag2',\n",
    " 't-ARCoeff-mag3',\n",
    " 't-ARCoeff-mag4',\n",
    " 'f-Mean-1',\n",
    " 'f-Mean-2',\n",
    " 'f-Mean-3',\n",
    " 'f-STD-1',\n",
    " 'f-STD-2',\n",
    " 'f-STD-3',\n",
    " 'f-Mad-1',\n",
    " 'f-Mad-2',\n",
    " 'f-Mad-3',\n",
    " 'f-Max-1',\n",
    " 'f-Max-2',\n",
    " 'f-Max-3',\n",
    " 'f-Min-1',\n",
    " 'f-Min-2',\n",
    " 'f-Min-3',\n",
    " 'f-SMA-1',\n",
    " 'f-Energy-1',\n",
    " 'f-Energy-2',\n",
    " 'f-Energy-3',\n",
    " 'f-IQR-1',\n",
    " 'f-IQR-2',\n",
    " 'f-IQR-3',\n",
    " 'f-ropy-1',\n",
    " 'f-ropy-2',\n",
    " 'f-ropy-3',\n",
    " 'f-MaxInds-1',\n",
    " 'f-MaxInds-2',\n",
    " 'f-MaxInds-3',\n",
    " 'f-MeanFreq-1',\n",
    " 'f-MeanFreq-2',\n",
    " 'f-MeanFreq-3',\n",
    " 'f-Skewness-1',\n",
    " 'f-Skewness-2',\n",
    " 'f-Skewness-3',\n",
    " 'f-Kurtosis-1',\n",
    " 'f-Kurtosis-2',\n",
    " 'f-Kurtosis-3',\n",
    " 'f-BandsEnergyOld-1',\n",
    " 'f-BandsEnergyOld-2',\n",
    " 'f-BandsEnergyOld-3',\n",
    " 'f-BandsEnergyOld-4',\n",
    " 'f-BandsEnergyOld-5',\n",
    " 'f-BandsEnergyOld-6',\n",
    " 'f-BandsEnergyOld-7',\n",
    " 'f-BandsEnergyOld-8',\n",
    " 'f-BandsEnergyOld-9',\n",
    " 'f-BandsEnergyOld-10',\n",
    " 'f-BandsEnergyOld-11',\n",
    " 'f-BandsEnergyOld-12',\n",
    " 'f-BandsEnergyOld-13',\n",
    " 'f-BandsEnergyOld-14',\n",
    " 'f-BandsEnergyOld-15',\n",
    " 'f-BandsEnergyOld-16',\n",
    " 'f-BandsEnergyOld-17',\n",
    " 'f-BandsEnergyOld-18',\n",
    " 'f-BandsEnergyOld-19',\n",
    " 'f-BandsEnergyOld-20',\n",
    " 'f-BandsEnergyOld-21',\n",
    " 'f-BandsEnergyOld-22',\n",
    " 'f-BandsEnergyOld-23',\n",
    " 'f-BandsEnergyOld-24',\n",
    " 'f-BandsEnergyOld-25',\n",
    " 'f-BandsEnergyOld-26',\n",
    " 'f-BandsEnergyOld-27',\n",
    " 'f-BandsEnergyOld-28',\n",
    " 'f-BandsEnergyOld-29',\n",
    " 'f-BandsEnergyOld-30',\n",
    " 'f-BandsEnergyOld-31',\n",
    " 'f-BandsEnergyOld-32',\n",
    " 'f-BandsEnergyOld-33',\n",
    " 'f-BandsEnergyOld-34',\n",
    " 'f-BandsEnergyOld-35',\n",
    " 'f-BandsEnergyOld-36',\n",
    " 'f-BandsEnergyOld-37',\n",
    " 'f-BandsEnergyOld-38',\n",
    " 'f-BandsEnergyOld-39',\n",
    " 'f-BandsEnergyOld-40',\n",
    " 'f-BandsEnergyOld-41',\n",
    " 'f-BandsEnergyOld-42',\n",
    " 'f-Mean-mag',\n",
    " 'f-STD-mag',\n",
    " 'f-Mad-mag',\n",
    " 'f-Max-mag',\n",
    " 'f-Min-mag',\n",
    " 'f-SMA-mag',\n",
    " 'f-Energy-mag',\n",
    " 'f-IQR-mag',\n",
    " 'f-ropy-mag',\n",
    " 'f-MaxInds-mag',\n",
    " 'f-MeanFreq-mag',\n",
    " 'f-Skewness-mag',\n",
    " 'f-Kurtosis-mag']\n",
    "\n",
    "\n",
    "\n",
    "def add_acc(n):\n",
    "    return \"acc_\" + n\n",
    "\n",
    "acc_feature145_names = list(map(add_acc, all_feature145_names))"
   ]
  },
  {
   "cell_type": "code",
   "execution_count": 75,
   "id": "6d7c4409",
   "metadata": {},
   "outputs": [],
   "source": [
    "# 特徴量重要度を棒グラフでプロットする関数 \n",
    "def plot_feature_importance(df): \n",
    "    n_features = len(df)                              # 特徴量数(説明変数の個数) \n",
    "    df_plot = df.sort_values('importance')            # df_importanceをプロット用に特徴量重要度を昇順ソート \n",
    "    f_importance_plot = df_plot['importance'].values  # 特徴量重要度の取得 \n",
    "    plt.barh(range(n_features), f_importance_plot, align='center') \n",
    "    cols_plot = df_plot['feature'].values             # 特徴量の取得 \n",
    "    plt.yticks(np.arange(n_features), cols_plot)      # x軸,y軸の値の設定\n",
    "    plt.xlabel('Feature importance')                  # x軸のタイトル\n",
    "    plt.ylabel('Feature')                             # y軸のタイトル"
   ]
  },
  {
   "cell_type": "code",
   "execution_count": 52,
   "id": "17eff85a",
   "metadata": {},
   "outputs": [
    {
     "data": {
      "text/html": [
       "<div>\n",
       "<style scoped>\n",
       "    .dataframe tbody tr th:only-of-type {\n",
       "        vertical-align: middle;\n",
       "    }\n",
       "\n",
       "    .dataframe tbody tr th {\n",
       "        vertical-align: top;\n",
       "    }\n",
       "\n",
       "    .dataframe thead th {\n",
       "        text-align: right;\n",
       "    }\n",
       "</style>\n",
       "<table border=\"1\" class=\"dataframe\">\n",
       "  <thead>\n",
       "    <tr style=\"text-align: right;\">\n",
       "      <th></th>\n",
       "      <th>acc_t-Mean-1</th>\n",
       "      <th>acc_t-Mean-2</th>\n",
       "      <th>acc_t-Mean-3</th>\n",
       "      <th>acc_t-STD-1</th>\n",
       "      <th>acc_t-STD-2</th>\n",
       "      <th>acc_t-STD-3</th>\n",
       "      <th>acc_t-Mad-1</th>\n",
       "      <th>acc_t-Mad-2</th>\n",
       "      <th>acc_t-Mad-3</th>\n",
       "      <th>acc_t-Max-1</th>\n",
       "      <th>...</th>\n",
       "      <th>acc_f-SMA-mag</th>\n",
       "      <th>acc_f-Energy-mag</th>\n",
       "      <th>acc_f-IQR-mag</th>\n",
       "      <th>acc_f-ropy-mag</th>\n",
       "      <th>acc_f-MaxInds-mag</th>\n",
       "      <th>acc_f-MeanFreq-mag</th>\n",
       "      <th>acc_f-Skewness-mag</th>\n",
       "      <th>acc_f-Kurtosis-mag</th>\n",
       "      <th>label</th>\n",
       "      <th>user</th>\n",
       "    </tr>\n",
       "  </thead>\n",
       "  <tbody>\n",
       "    <tr>\n",
       "      <th>0</th>\n",
       "      <td>0.012326</td>\n",
       "      <td>-0.980078</td>\n",
       "      <td>-0.221543</td>\n",
       "      <td>0.000586</td>\n",
       "      <td>0.001016</td>\n",
       "      <td>0.000863</td>\n",
       "      <td>0.000000</td>\n",
       "      <td>0.000000</td>\n",
       "      <td>0.001483</td>\n",
       "      <td>0.013</td>\n",
       "      <td>...</td>\n",
       "      <td>0.031543</td>\n",
       "      <td>0.063112</td>\n",
       "      <td>0.000133</td>\n",
       "      <td>-1.912936</td>\n",
       "      <td>0.0</td>\n",
       "      <td>0.070118</td>\n",
       "      <td>7.811263</td>\n",
       "      <td>59.015843</td>\n",
       "      <td>0</td>\n",
       "      <td>0</td>\n",
       "    </tr>\n",
       "    <tr>\n",
       "      <th>1</th>\n",
       "      <td>0.012333</td>\n",
       "      <td>-0.980031</td>\n",
       "      <td>-0.221388</td>\n",
       "      <td>0.000614</td>\n",
       "      <td>0.000797</td>\n",
       "      <td>0.000901</td>\n",
       "      <td>0.000000</td>\n",
       "      <td>0.000000</td>\n",
       "      <td>0.001483</td>\n",
       "      <td>0.013</td>\n",
       "      <td>...</td>\n",
       "      <td>0.031509</td>\n",
       "      <td>0.063102</td>\n",
       "      <td>0.000094</td>\n",
       "      <td>-1.934977</td>\n",
       "      <td>0.0</td>\n",
       "      <td>0.058999</td>\n",
       "      <td>7.811264</td>\n",
       "      <td>59.015855</td>\n",
       "      <td>0</td>\n",
       "      <td>0</td>\n",
       "    </tr>\n",
       "    <tr>\n",
       "      <th>2</th>\n",
       "      <td>0.012264</td>\n",
       "      <td>-0.980093</td>\n",
       "      <td>-0.221388</td>\n",
       "      <td>0.000536</td>\n",
       "      <td>0.000802</td>\n",
       "      <td>0.000847</td>\n",
       "      <td>0.000000</td>\n",
       "      <td>0.000000</td>\n",
       "      <td>0.001483</td>\n",
       "      <td>0.013</td>\n",
       "      <td>...</td>\n",
       "      <td>0.031510</td>\n",
       "      <td>0.063109</td>\n",
       "      <td>0.000100</td>\n",
       "      <td>-1.936172</td>\n",
       "      <td>0.0</td>\n",
       "      <td>0.055842</td>\n",
       "      <td>7.811264</td>\n",
       "      <td>59.015853</td>\n",
       "      <td>0</td>\n",
       "      <td>0</td>\n",
       "    </tr>\n",
       "    <tr>\n",
       "      <th>3</th>\n",
       "      <td>0.012380</td>\n",
       "      <td>-0.980256</td>\n",
       "      <td>-0.221481</td>\n",
       "      <td>0.000546</td>\n",
       "      <td>0.000800</td>\n",
       "      <td>0.000973</td>\n",
       "      <td>0.000000</td>\n",
       "      <td>0.001483</td>\n",
       "      <td>0.001483</td>\n",
       "      <td>0.014</td>\n",
       "      <td>...</td>\n",
       "      <td>0.031508</td>\n",
       "      <td>0.063132</td>\n",
       "      <td>0.000068</td>\n",
       "      <td>-1.942563</td>\n",
       "      <td>0.0</td>\n",
       "      <td>0.051160</td>\n",
       "      <td>7.811264</td>\n",
       "      <td>59.015854</td>\n",
       "      <td>0</td>\n",
       "      <td>0</td>\n",
       "    </tr>\n",
       "    <tr>\n",
       "      <th>4</th>\n",
       "      <td>0.012473</td>\n",
       "      <td>-0.980163</td>\n",
       "      <td>-0.221690</td>\n",
       "      <td>0.000585</td>\n",
       "      <td>0.000713</td>\n",
       "      <td>0.001048</td>\n",
       "      <td>0.001483</td>\n",
       "      <td>0.000000</td>\n",
       "      <td>0.001483</td>\n",
       "      <td>0.014</td>\n",
       "      <td>...</td>\n",
       "      <td>0.031501</td>\n",
       "      <td>0.063126</td>\n",
       "      <td>0.000083</td>\n",
       "      <td>-1.946101</td>\n",
       "      <td>0.0</td>\n",
       "      <td>0.052189</td>\n",
       "      <td>7.811265</td>\n",
       "      <td>59.015861</td>\n",
       "      <td>0</td>\n",
       "      <td>0</td>\n",
       "    </tr>\n",
       "  </tbody>\n",
       "</table>\n",
       "<p>5 rows × 147 columns</p>\n",
       "</div>"
      ],
      "text/plain": [
       "   acc_t-Mean-1  acc_t-Mean-2  acc_t-Mean-3  acc_t-STD-1  acc_t-STD-2  \\\n",
       "0      0.012326     -0.980078     -0.221543     0.000586     0.001016   \n",
       "1      0.012333     -0.980031     -0.221388     0.000614     0.000797   \n",
       "2      0.012264     -0.980093     -0.221388     0.000536     0.000802   \n",
       "3      0.012380     -0.980256     -0.221481     0.000546     0.000800   \n",
       "4      0.012473     -0.980163     -0.221690     0.000585     0.000713   \n",
       "\n",
       "   acc_t-STD-3  acc_t-Mad-1  acc_t-Mad-2  acc_t-Mad-3  acc_t-Max-1  ...  \\\n",
       "0     0.000863     0.000000     0.000000     0.001483        0.013  ...   \n",
       "1     0.000901     0.000000     0.000000     0.001483        0.013  ...   \n",
       "2     0.000847     0.000000     0.000000     0.001483        0.013  ...   \n",
       "3     0.000973     0.000000     0.001483     0.001483        0.014  ...   \n",
       "4     0.001048     0.001483     0.000000     0.001483        0.014  ...   \n",
       "\n",
       "   acc_f-SMA-mag  acc_f-Energy-mag  acc_f-IQR-mag  acc_f-ropy-mag  \\\n",
       "0       0.031543          0.063112       0.000133       -1.912936   \n",
       "1       0.031509          0.063102       0.000094       -1.934977   \n",
       "2       0.031510          0.063109       0.000100       -1.936172   \n",
       "3       0.031508          0.063132       0.000068       -1.942563   \n",
       "4       0.031501          0.063126       0.000083       -1.946101   \n",
       "\n",
       "   acc_f-MaxInds-mag  acc_f-MeanFreq-mag  acc_f-Skewness-mag  \\\n",
       "0                0.0            0.070118            7.811263   \n",
       "1                0.0            0.058999            7.811264   \n",
       "2                0.0            0.055842            7.811264   \n",
       "3                0.0            0.051160            7.811264   \n",
       "4                0.0            0.052189            7.811265   \n",
       "\n",
       "   acc_f-Kurtosis-mag  label  user  \n",
       "0           59.015843      0     0  \n",
       "1           59.015855      0     0  \n",
       "2           59.015853      0     0  \n",
       "3           59.015854      0     0  \n",
       "4           59.015861      0     0  \n",
       "\n",
       "[5 rows x 147 columns]"
      ]
     },
     "execution_count": 52,
     "metadata": {},
     "output_type": "execute_result"
    }
   ],
   "source": [
    "os.getcwd()\n",
    "\n",
    "terger_dir =\"/Users/y-nakamura/yugo_workspace/bar_exercise/data/features/2021_dpsws\"\n",
    "\n",
    "os.chdir(terger_dir)\n",
    "\n",
    "# df_bottom = pd.read_csv(terger_dir + \"/Bottom_2021-07-16T15.18.45.753_E2EE3F7D14CE_Accelerometer_features.csv\")\n",
    "# df_middle = pd.read_csv(terger_dir + \"/Middle_2021-07-16T15.18.10.660_CEF5C0D2C881_Accelerometer_features.csv\")\n",
    "df_upper = pd.read_csv(terger_dir + \"/0721_Upper_Accelerometer_features128.csv\")\n",
    "df_upper.head()"
   ]
  },
  {
   "cell_type": "code",
   "execution_count": 53,
   "id": "b382356b",
   "metadata": {},
   "outputs": [
    {
     "data": {
      "text/plain": [
       "Counter({0: 617, 1: 83, 2: 126, 3: 135, 4: 102})"
      ]
     },
     "execution_count": 53,
     "metadata": {},
     "output_type": "execute_result"
    }
   ],
   "source": [
    "Counter(list(df_upper.label))"
   ]
  },
  {
   "cell_type": "code",
   "execution_count": 67,
   "id": "35e832c0",
   "metadata": {},
   "outputs": [],
   "source": [
    "key = [0, 1, 2, 3, 4]\n",
    "val = [140, 83, 126, 135, 102]\n",
    "strategy = dict(zip(key, val))"
   ]
  },
  {
   "cell_type": "code",
   "execution_count": 61,
   "id": "1d386ca9",
   "metadata": {},
   "outputs": [],
   "source": [
    "features_list = acc_feature145_names"
   ]
  },
  {
   "cell_type": "code",
   "execution_count": 68,
   "id": "c0c5669f",
   "metadata": {},
   "outputs": [],
   "source": [
    "#df_feature= df_bottom \n",
    "df_feature= df_upper\n",
    "\n",
    "X = df_feature[features_list].values\n",
    "y = df_feature.label.values"
   ]
  },
  {
   "cell_type": "code",
   "execution_count": 65,
   "id": "05e6ce79",
   "metadata": {},
   "outputs": [
    {
     "data": {
      "text/plain": [
       "(1063, 145)"
      ]
     },
     "execution_count": 65,
     "metadata": {},
     "output_type": "execute_result"
    }
   ],
   "source": [
    "X.shape"
   ]
  },
  {
   "cell_type": "code",
   "execution_count": 66,
   "id": "7e123720",
   "metadata": {},
   "outputs": [
    {
     "data": {
      "text/plain": [
       "(1063,)"
      ]
     },
     "execution_count": 66,
     "metadata": {},
     "output_type": "execute_result"
    }
   ],
   "source": [
    "y.shape"
   ]
  },
  {
   "cell_type": "code",
   "execution_count": 69,
   "id": "616a9b00",
   "metadata": {},
   "outputs": [],
   "source": [
    "X_r, y_r = make_imbalance(X, y,\n",
    "                      sampling_strategy=strategy,\n",
    "                      random_state=123)"
   ]
  },
  {
   "cell_type": "code",
   "execution_count": 70,
   "id": "1072fd34",
   "metadata": {},
   "outputs": [
    {
     "data": {
      "text/plain": [
       "array([0, 1, 2, 3, 4])"
      ]
     },
     "execution_count": 70,
     "metadata": {},
     "output_type": "execute_result"
    }
   ],
   "source": [
    "labels = np.unique(y_r)\n",
    "labels"
   ]
  },
  {
   "cell_type": "code",
   "execution_count": 71,
   "id": "f86869be",
   "metadata": {},
   "outputs": [],
   "source": [
    "#c = collections.Counter(list(y))"
   ]
  },
  {
   "cell_type": "code",
   "execution_count": 72,
   "id": "050ebb3b",
   "metadata": {},
   "outputs": [
    {
     "data": {
      "text/plain": [
       "Counter({0: 140, 1: 83, 2: 126, 3: 135, 4: 102})"
      ]
     },
     "execution_count": 72,
     "metadata": {},
     "output_type": "execute_result"
    }
   ],
   "source": [
    "Counter(list(y_r))"
   ]
  },
  {
   "cell_type": "code",
   "execution_count": 29,
   "id": "c7cbc0f4",
   "metadata": {},
   "outputs": [
    {
     "data": {
      "text/plain": [
       "<matplotlib.legend.Legend at 0x14aef81f0>"
      ]
     },
     "execution_count": 29,
     "metadata": {},
     "output_type": "execute_result"
    },
    {
     "data": {
      "image/png": "[encoded data removed]",
      "text/plain": [
       "<Figure size 2160x2160 with 1 Axes>"
      ]
     },
     "metadata": {
      "needs_background": "light"
     },
     "output_type": "display_data"
    }
   ],
   "source": [
    "#filename = \"/Users/y-nakamura/yugo_workspace/hand_scaling/data/clf_results/results_20210708/t-sne/force_acc_gyro.png\"\n",
    "sX = X_r\n",
    "sY1 = y_r\n",
    "\n",
    "stsne = TSNE(n_components=2, random_state = 0, perplexity = 30, n_iter = 1000)\n",
    "sX_embedded = stsne.fit_transform(sX)\n",
    "\n",
    "df_tsne = pd.DataFrame(sX_embedded, columns = ['col1', 'col2'])\n",
    "\n",
    "sddf = pd.concat([df_tsne, df_feature.label], axis = 1)\n",
    "\n",
    "colors =  [\"g\", \"r\", \"b\", \"c\", \"k\"]\n",
    "plt.figure(figsize = (30, 30))\n",
    "for i , v in enumerate(np.unique(sddf.label.values)):\n",
    "    tmp_df = sddf[sddf.label== v]\n",
    "    plt.scatter(tmp_df['col1'],  \n",
    "                tmp_df ['col2'],\n",
    "                label = v,\n",
    "                color = colors[i])\n",
    "\n",
    "plt.legend(fontsize = 30)\n",
    "\n",
    "#plt.savefig(filename, bbox_inches=\"tight\", pad_inches=0.05)\n"
   ]
  },
  {
   "cell_type": "code",
   "execution_count": 73,
   "id": "e70b72e2",
   "metadata": {},
   "outputs": [
    {
     "name": "stderr",
     "output_type": "stream",
     "text": [
      "[Parallel(n_jobs=7)]: Using backend LokyBackend with 7 concurrent workers.\n",
      "[Parallel(n_jobs=7)]: Done   8 out of  10 | elapsed:    3.3s remaining:    0.8s\n",
      "[Parallel(n_jobs=7)]: Done  10 out of  10 | elapsed:    3.4s finished\n"
     ]
    }
   ],
   "source": [
    "scaler = StandardScaler()\n",
    "clf = LGBMClassifier()\n",
    "\n",
    "pipeline = make_pipeline(scaler, clf)\n",
    "\n",
    "cv = StratifiedKFold(10)\n",
    "y_pred = cross_val_predict(pipeline, X_r, y_r,\n",
    "                                   cv=cv,\n",
    "                                   n_jobs=7, verbose=1)"
   ]
  },
  {
   "cell_type": "code",
   "execution_count": 76,
   "id": "67a06cbc",
   "metadata": {},
   "outputs": [],
   "source": [
    "params = {\n",
    "        'task': 'train',\n",
    "        'boosting_type': 'gbdt',\n",
    "        'objective': 'regression', # 目的 : 回帰  \n",
    "        'metric': {'rmse'}, # 評価指標 : rsme(平均二乗誤差の平方根) \n",
    "}"
   ]
  },
  {
   "cell_type": "code",
   "execution_count": 77,
   "id": "13feae55",
   "metadata": {},
   "outputs": [
    {
     "ename": "AttributeError",
     "evalue": "'LGBMClassifier' object has no attribute 'train'",
     "output_type": "error",
     "traceback": [
      "\u001b[0;31m---------------------------------------------------------------------------\u001b[0m",
      "\u001b[0;31mAttributeError\u001b[0m                            Traceback (most recent call last)",
      "\u001b[0;32m<ipython-input-77-698836dee5bb>\u001b[0m in \u001b[0;36m<module>\u001b[0;34m\u001b[0m\n\u001b[0;32m----> 1\u001b[0;31m \u001b[0mmodel\u001b[0m \u001b[0;34m=\u001b[0m \u001b[0mclf\u001b[0m\u001b[0;34m.\u001b[0m\u001b[0mtrain\u001b[0m\u001b[0;34m(\u001b[0m\u001b[0mparams\u001b[0m\u001b[0;34m,\u001b[0m \u001b[0mX_r\u001b[0m\u001b[0;34m,\u001b[0m \u001b[0my_r\u001b[0m\u001b[0;34m)\u001b[0m\u001b[0;34m\u001b[0m\u001b[0;34m\u001b[0m\u001b[0m\n\u001b[0m",
      "\u001b[0;31mAttributeError\u001b[0m: 'LGBMClassifier' object has no attribute 'train'"
     ]
    }
   ],
   "source": [
    "model = clf.train(params, X_r, y_r)"
   ]
  },
  {
   "cell_type": "code",
   "execution_count": 78,
   "id": "63a5c435",
   "metadata": {},
   "outputs": [],
   "source": [
    "from sklearn.model_selection import cross_validate"
   ]
  },
  {
   "cell_type": "code",
   "execution_count": 86,
   "id": "5d254925",
   "metadata": {},
   "outputs": [],
   "source": [
    "clf=LGBMClassifier()\n",
    "output = cross_validate(clf, X_r, y_r, cv=10, scoring = 'accuracy', return_estimator =True)"
   ]
  },
  {
   "cell_type": "code",
   "execution_count": 88,
   "id": "346d1712",
   "metadata": {},
   "outputs": [
    {
     "data": {
      "text/plain": [
       "LGBMClassifier()"
      ]
     },
     "execution_count": 88,
     "metadata": {},
     "output_type": "execute_result"
    }
   ],
   "source": [
    "estimator"
   ]
  },
  {
   "cell_type": "code",
   "execution_count": null,
   "id": "963963fd",
   "metadata": {},
   "outputs": [],
   "source": []
  },
  {
   "cell_type": "code",
   "execution_count": 89,
   "id": "a82183d2",
   "metadata": {},
   "outputs": [
    {
     "name": "stdout",
     "output_type": "stream",
     "text": [
      "Features sorted by their score for estimator 0:\n",
      "                        importance\n",
      "acc_f-BandsEnergyOld-5         362\n",
      "acc_t-Correlation-2            331\n",
      "acc_f-STD-3                    329\n",
      "acc_f-MeanFreq-1               300\n",
      "acc_f-BandsEnergyOld-4         282\n",
      "...                            ...\n",
      "acc_t-ARCoeff-6                  0\n",
      "acc_f-MaxInds-3                  0\n",
      "acc_f-MaxInds-2                  0\n",
      "acc_t-ARCoeff-7                  0\n",
      "acc_f-Kurtosis-mag               0\n",
      "\n",
      "[145 rows x 1 columns]\n",
      "Features sorted by their score for estimator 1:\n",
      "                        importance\n",
      "acc_f-BandsEnergyOld-5         313\n",
      "acc_f-STD-3                    307\n",
      "acc_t-Correlation-2            251\n",
      "acc_f-BandsEnergyOld-4         240\n",
      "acc_f-MeanFreq-1               235\n",
      "...                            ...\n",
      "acc_t-ARCoeff-1                  0\n",
      "acc_t-ropy-2                     0\n",
      "acc_f-MaxInds-2                  0\n",
      "acc_f-MaxInds-3                  0\n",
      "acc_f-Kurtosis-mag               0\n",
      "\n",
      "[145 rows x 1 columns]\n",
      "Features sorted by their score for estimator 2:\n",
      "                     importance\n",
      "acc_f-MeanFreq-1            379\n",
      "acc_t-Correlation-2         290\n",
      "acc_f-Min-2                 285\n",
      "acc_t-Mean-1                248\n",
      "acc_f-STD-3                 248\n",
      "...                         ...\n",
      "acc_t-ARCoeff-5               0\n",
      "acc_t-ropy-2                  0\n",
      "acc_t-ARCoeff-4               0\n",
      "acc_t-ARCoeff-1               0\n",
      "acc_f-Kurtosis-mag            0\n",
      "\n",
      "[145 rows x 1 columns]\n",
      "Features sorted by their score for estimator 3:\n",
      "                         importance\n",
      "acc_f-BandsEnergyOld-5          331\n",
      "acc_f-STD-2                     299\n",
      "acc_f-BandsEnergyOld-30         261\n",
      "acc_f-BandsEnergyOld-4          256\n",
      "acc_t-Mean-1                    252\n",
      "...                             ...\n",
      "acc_t-ARCoeff-mag4                0\n",
      "acc_t-ropy-2                      0\n",
      "acc_f-MaxInds-2                   0\n",
      "acc_f-MaxInds-3                   0\n",
      "acc_f-Kurtosis-mag                0\n",
      "\n",
      "[145 rows x 1 columns]\n",
      "Features sorted by their score for estimator 4:\n",
      "                        importance\n",
      "acc_f-MeanFreq-1               313\n",
      "acc_f-BandsEnergyOld-4         267\n",
      "acc_f-STD-3                    263\n",
      "acc_t-Correlation-2            262\n",
      "acc_f-BandsEnergyOld-5         251\n",
      "...                            ...\n",
      "acc_t-ARCoeff-mag3               0\n",
      "acc_t-ARCoeff-mag4               0\n",
      "acc_f-MaxInds-2                  0\n",
      "acc_f-MaxInds-3                  0\n",
      "acc_f-Kurtosis-mag               0\n",
      "\n",
      "[145 rows x 1 columns]\n",
      "Features sorted by their score for estimator 5:\n",
      "                        importance\n",
      "acc_f-BandsEnergyOld-5         395\n",
      "acc_f-MeanFreq-1               319\n",
      "acc_t-Correlation-1            293\n",
      "acc_t-Correlation-2            286\n",
      "acc_f-STD-3                    285\n",
      "...                            ...\n",
      "acc_f-MaxInds-2                  0\n",
      "acc_f-MaxInds-3                  0\n",
      "acc_t-ARCoeff-3                  0\n",
      "acc_t-ARCoeff-2                  0\n",
      "acc_f-Kurtosis-mag               0\n",
      "\n",
      "[145 rows x 1 columns]\n",
      "Features sorted by their score for estimator 6:\n",
      "                        importance\n",
      "acc_f-STD-3                    310\n",
      "acc_f-Min-2                    295\n",
      "acc_f-MeanFreq-1               280\n",
      "acc_t-Correlation-2            269\n",
      "acc_f-BandsEnergyOld-5         260\n",
      "...                            ...\n",
      "acc_t-ARCoeff-8                  0\n",
      "acc_f-Kurtosis-2                 0\n",
      "acc_t-ARCoeff-10                 0\n",
      "acc_t-ropy-2                     0\n",
      "acc_f-Kurtosis-mag               0\n",
      "\n",
      "[145 rows x 1 columns]\n",
      "Features sorted by their score for estimator 7:\n",
      "                        importance\n",
      "acc_f-STD-3                    340\n",
      "acc_f-BandsEnergyOld-5         302\n",
      "acc_t-Correlation-2            292\n",
      "acc_f-MeanFreq-1               261\n",
      "acc_f-BandsEnergyOld-4         245\n",
      "...                            ...\n",
      "acc_t-SMA-mag                    0\n",
      "acc_t-ARCoeff-mag1               0\n",
      "acc_t-ARCoeff-mag2               0\n",
      "acc_t-ARCoeff-mag3               0\n",
      "acc_f-Kurtosis-mag               0\n",
      "\n",
      "[145 rows x 1 columns]\n",
      "Features sorted by their score for estimator 8:\n",
      "                         importance\n",
      "acc_f-BandsEnergyOld-5          388\n",
      "acc_f-STD-3                     338\n",
      "acc_f-MeanFreq-1                272\n",
      "acc_f-BandsEnergyOld-30         271\n",
      "acc_t-Correlation-2             267\n",
      "...                             ...\n",
      "acc_f-MaxInds-2                   0\n",
      "acc_f-MaxInds-3                   0\n",
      "acc_t-ropy-2                      0\n",
      "acc_f-Kurtosis-2                  0\n",
      "acc_f-Kurtosis-mag                0\n",
      "\n",
      "[145 rows x 1 columns]\n",
      "Features sorted by their score for estimator 9:\n",
      "                        importance\n",
      "acc_f-BandsEnergyOld-5         367\n",
      "acc_f-STD-3                    359\n",
      "acc_f-MeanFreq-1               291\n",
      "acc_t-Correlation-2            266\n",
      "acc_f-Min-mag                  261\n",
      "...                            ...\n",
      "acc_t-ARCoeff-mag4               0\n",
      "acc_t-ropy-2                     0\n",
      "acc_f-MaxInds-2                  0\n",
      "acc_f-MaxInds-3                  0\n",
      "acc_f-Kurtosis-mag               0\n",
      "\n",
      "[145 rows x 1 columns]\n"
     ]
    }
   ],
   "source": [
    "for idx,estimator in enumerate(output['estimator']):\n",
    "    print(\"Features sorted by their score for estimator {}:\".format(idx))\n",
    "    feature_importances = pd.DataFrame(estimator.feature_importances_,\n",
    "                                       index = features_list,\n",
    "                                        columns=['importance']).sort_values('importance', ascending=False)\n",
    "    print(feature_importances)"
   ]
  },
  {
   "cell_type": "code",
   "execution_count": 92,
   "id": "78b3451b",
   "metadata": {},
   "outputs": [
    {
     "data": {
      "text/plain": [
       "{'fit_time': array([0.45081091, 0.53210592, 0.45235014, 0.45966601, 0.43429232,\n",
       "        0.64117193, 0.44272709, 0.43410778, 0.49083495, 0.44182396]),\n",
       " 'score_time': array([0.00110412, 0.00081515, 0.00083184, 0.00081897, 0.00080895,\n",
       "        0.00087309, 0.00079083, 0.00085521, 0.00077224, 0.00077605]),\n",
       " 'estimator': [LGBMClassifier(),\n",
       "  LGBMClassifier(),\n",
       "  LGBMClassifier(),\n",
       "  LGBMClassifier(),\n",
       "  LGBMClassifier(),\n",
       "  LGBMClassifier(),\n",
       "  LGBMClassifier(),\n",
       "  LGBMClassifier(),\n",
       "  LGBMClassifier(),\n",
       "  LGBMClassifier()],\n",
       " 'test_score': array([0.94915254, 0.88135593, 0.79661017, 0.93220339, 0.88135593,\n",
       "        0.84745763, 0.82758621, 0.89655172, 0.96551724, 0.86206897])}"
      ]
     },
     "execution_count": 92,
     "metadata": {},
     "output_type": "execute_result"
    }
   ],
   "source": [
    "output"
   ]
  },
  {
   "cell_type": "code",
   "execution_count": 105,
   "id": "3a79568d",
   "metadata": {},
   "outputs": [
    {
     "data": {
      "text/plain": [
       "array([222, 227, 169,  54,  50,  14,  66,  18,  85,  73,  74, 107, 105,\n",
       "        23, 138, 179,  32,  82, 118, 130,  40,  45,  85,   0,   1,   0,\n",
       "         0,   0,   0,   0,   0,   0,   0,  16,   2,   0,   5, 155, 266,\n",
       "       133,  58,  33,  71,  81, 145,   0,   3,  50,  45,   0,   0,   0,\n",
       "         0,  23,  61,  30,  66, 165, 359,  90,  62,  79, 114,  50,  96,\n",
       "       223, 257, 140,  75,   6,  52, 136, 122, 122, 149,  24,  33,  26,\n",
       "        38,   0,   0, 291,  52,  32,  82,  99,  31,  72,   0,   7, 120,\n",
       "        71,  73, 168, 367, 133, 103, 116,  48,  72, 143,  69,   9, 119,\n",
       "        34, 125,  34,  73,  62, 143,  78, 114,  11,  59,  54,  45,   6,\n",
       "        52,  85, 190,  17, 119,  94, 187, 102,  75, 121,  22,  87,  59,\n",
       "        83,  37,  91,  40,  59,   0, 261,   0,   1,  45,  48,   0,  39,\n",
       "        48,   0], dtype=int32)"
      ]
     },
     "execution_count": 105,
     "metadata": {},
     "output_type": "execute_result"
    }
   ],
   "source": [
    "estimator.feature_importances_"
   ]
  },
  {
   "cell_type": "code",
   "execution_count": 106,
   "id": "81b79c74",
   "metadata": {},
   "outputs": [
    {
     "data": {
      "text/plain": [
       "['acc_t-Mean-1',\n",
       " 'acc_t-Mean-2',\n",
       " 'acc_t-Mean-3',\n",
       " 'acc_t-STD-1',\n",
       " 'acc_t-STD-2',\n",
       " 'acc_t-STD-3',\n",
       " 'acc_t-Mad-1',\n",
       " 'acc_t-Mad-2',\n",
       " 'acc_t-Mad-3',\n",
       " 'acc_t-Max-1',\n",
       " 'acc_t-Max-2',\n",
       " 'acc_t-Max-3',\n",
       " 'acc_t-Min-1',\n",
       " 'acc_t-Min-2',\n",
       " 'acc_t-Min-3',\n",
       " 'acc_t-SMA-1',\n",
       " 'acc_t-Energy-1',\n",
       " 'acc_t-Energy-2',\n",
       " 'acc_t-Energy-3',\n",
       " 'acc_t-IQR-1',\n",
       " 'acc_t-IQR-2',\n",
       " 'acc_t-IQR-3',\n",
       " 'acc_t-ropy-1',\n",
       " 'acc_t-ropy-2',\n",
       " 'acc_t-ropy-3',\n",
       " 'acc_t-ARCoeff-1',\n",
       " 'acc_t-ARCoeff-2',\n",
       " 'acc_t-ARCoeff-3',\n",
       " 'acc_t-ARCoeff-4',\n",
       " 'acc_t-ARCoeff-5',\n",
       " 'acc_t-ARCoeff-6',\n",
       " 'acc_t-ARCoeff-7',\n",
       " 'acc_t-ARCoeff-8',\n",
       " 'acc_t-ARCoeff-9',\n",
       " 'acc_t-ARCoeff-10',\n",
       " 'acc_t-ARCoeff-11',\n",
       " 'acc_t-ARCoeff-12',\n",
       " 'acc_t-Correlation-1',\n",
       " 'acc_t-Correlation-2',\n",
       " 'acc_t-Correlation-3',\n",
       " 'acc_t-Mean-mag',\n",
       " 'acc_t-STD-mag',\n",
       " 'acc_t-Mad-mag',\n",
       " 'acc_t-Max-mag',\n",
       " 'acc_t-Min-mag',\n",
       " 'acc_t-SMA-mag',\n",
       " 'acc_t-Energy-mag',\n",
       " 'acc_t-IQR-mag',\n",
       " 'acc_t-ropy-mag',\n",
       " 'acc_t-ARCoeff-mag1',\n",
       " 'acc_t-ARCoeff-mag2',\n",
       " 'acc_t-ARCoeff-mag3',\n",
       " 'acc_t-ARCoeff-mag4',\n",
       " 'acc_f-Mean-1',\n",
       " 'acc_f-Mean-2',\n",
       " 'acc_f-Mean-3',\n",
       " 'acc_f-STD-1',\n",
       " 'acc_f-STD-2',\n",
       " 'acc_f-STD-3',\n",
       " 'acc_f-Mad-1',\n",
       " 'acc_f-Mad-2',\n",
       " 'acc_f-Mad-3',\n",
       " 'acc_f-Max-1',\n",
       " 'acc_f-Max-2',\n",
       " 'acc_f-Max-3',\n",
       " 'acc_f-Min-1',\n",
       " 'acc_f-Min-2',\n",
       " 'acc_f-Min-3',\n",
       " 'acc_f-SMA-1',\n",
       " 'acc_f-Energy-1',\n",
       " 'acc_f-Energy-2',\n",
       " 'acc_f-Energy-3',\n",
       " 'acc_f-IQR-1',\n",
       " 'acc_f-IQR-2',\n",
       " 'acc_f-IQR-3',\n",
       " 'acc_f-ropy-1',\n",
       " 'acc_f-ropy-2',\n",
       " 'acc_f-ropy-3',\n",
       " 'acc_f-MaxInds-1',\n",
       " 'acc_f-MaxInds-2',\n",
       " 'acc_f-MaxInds-3',\n",
       " 'acc_f-MeanFreq-1',\n",
       " 'acc_f-MeanFreq-2',\n",
       " 'acc_f-MeanFreq-3',\n",
       " 'acc_f-Skewness-1',\n",
       " 'acc_f-Skewness-2',\n",
       " 'acc_f-Skewness-3',\n",
       " 'acc_f-Kurtosis-1',\n",
       " 'acc_f-Kurtosis-2',\n",
       " 'acc_f-Kurtosis-3',\n",
       " 'acc_f-BandsEnergyOld-1',\n",
       " 'acc_f-BandsEnergyOld-2',\n",
       " 'acc_f-BandsEnergyOld-3',\n",
       " 'acc_f-BandsEnergyOld-4',\n",
       " 'acc_f-BandsEnergyOld-5',\n",
       " 'acc_f-BandsEnergyOld-6',\n",
       " 'acc_f-BandsEnergyOld-7',\n",
       " 'acc_f-BandsEnergyOld-8',\n",
       " 'acc_f-BandsEnergyOld-9',\n",
       " 'acc_f-BandsEnergyOld-10',\n",
       " 'acc_f-BandsEnergyOld-11',\n",
       " 'acc_f-BandsEnergyOld-12',\n",
       " 'acc_f-BandsEnergyOld-13',\n",
       " 'acc_f-BandsEnergyOld-14',\n",
       " 'acc_f-BandsEnergyOld-15',\n",
       " 'acc_f-BandsEnergyOld-16',\n",
       " 'acc_f-BandsEnergyOld-17',\n",
       " 'acc_f-BandsEnergyOld-18',\n",
       " 'acc_f-BandsEnergyOld-19',\n",
       " 'acc_f-BandsEnergyOld-20',\n",
       " 'acc_f-BandsEnergyOld-21',\n",
       " 'acc_f-BandsEnergyOld-22',\n",
       " 'acc_f-BandsEnergyOld-23',\n",
       " 'acc_f-BandsEnergyOld-24',\n",
       " 'acc_f-BandsEnergyOld-25',\n",
       " 'acc_f-BandsEnergyOld-26',\n",
       " 'acc_f-BandsEnergyOld-27',\n",
       " 'acc_f-BandsEnergyOld-28',\n",
       " 'acc_f-BandsEnergyOld-29',\n",
       " 'acc_f-BandsEnergyOld-30',\n",
       " 'acc_f-BandsEnergyOld-31',\n",
       " 'acc_f-BandsEnergyOld-32',\n",
       " 'acc_f-BandsEnergyOld-33',\n",
       " 'acc_f-BandsEnergyOld-34',\n",
       " 'acc_f-BandsEnergyOld-35',\n",
       " 'acc_f-BandsEnergyOld-36',\n",
       " 'acc_f-BandsEnergyOld-37',\n",
       " 'acc_f-BandsEnergyOld-38',\n",
       " 'acc_f-BandsEnergyOld-39',\n",
       " 'acc_f-BandsEnergyOld-40',\n",
       " 'acc_f-BandsEnergyOld-41',\n",
       " 'acc_f-BandsEnergyOld-42',\n",
       " 'acc_f-Mean-mag',\n",
       " 'acc_f-STD-mag',\n",
       " 'acc_f-Mad-mag',\n",
       " 'acc_f-Max-mag',\n",
       " 'acc_f-Min-mag',\n",
       " 'acc_f-SMA-mag',\n",
       " 'acc_f-Energy-mag',\n",
       " 'acc_f-IQR-mag',\n",
       " 'acc_f-ropy-mag',\n",
       " 'acc_f-MaxInds-mag',\n",
       " 'acc_f-MeanFreq-mag',\n",
       " 'acc_f-Skewness-mag',\n",
       " 'acc_f-Kurtosis-mag']"
      ]
     },
     "execution_count": 106,
     "metadata": {},
     "output_type": "execute_result"
    }
   ],
   "source": [
    "features_list"
   ]
  },
  {
   "cell_type": "code",
   "execution_count": null,
   "id": "0099a826",
   "metadata": {},
   "outputs": [],
   "source": []
  },
  {
   "cell_type": "code",
   "execution_count": null,
   "id": "f0a13722",
   "metadata": {},
   "outputs": [],
   "source": [
    "cols = list(df.drop('CRIM',axis=1).columns)         # 特徴量名のリスト(目的変数CRIM以外)\n",
    "f_importance = np.array(model.feature_importance()) # 特徴量重要度の算出\n",
    "f_importance = f_importance / np.sum(f_importance)  # 正規化(必要ない場合はコメントアウト)\n",
    "df_importance = pd.DataFrame({'feature':cols, 'importance':f_importance})\n",
    "df_importance = df_importance.sort_values('importance', ascending=False) # 降順ソート\n",
    "display(df_importance)"
   ]
  },
  {
   "cell_type": "code",
   "execution_count": null,
   "id": "f07e47ad",
   "metadata": {},
   "outputs": [],
   "source": []
  },
  {
   "cell_type": "code",
   "execution_count": null,
   "id": "116b14f9",
   "metadata": {},
   "outputs": [],
   "source": []
  },
  {
   "cell_type": "code",
   "execution_count": null,
   "id": "0190a353",
   "metadata": {},
   "outputs": [],
   "source": []
  },
  {
   "cell_type": "code",
   "execution_count": 109,
   "id": "3d918432",
   "metadata": {},
   "outputs": [
    {
     "data": {
      "text/html": [
       "<div>\n",
       "<style scoped>\n",
       "    .dataframe tbody tr th:only-of-type {\n",
       "        vertical-align: middle;\n",
       "    }\n",
       "\n",
       "    .dataframe tbody tr th {\n",
       "        vertical-align: top;\n",
       "    }\n",
       "\n",
       "    .dataframe thead th {\n",
       "        text-align: right;\n",
       "    }\n",
       "</style>\n",
       "<table border=\"1\" class=\"dataframe\">\n",
       "  <thead>\n",
       "    <tr style=\"text-align: right;\">\n",
       "      <th></th>\n",
       "      <th>feature</th>\n",
       "      <th>importance</th>\n",
       "    </tr>\n",
       "  </thead>\n",
       "  <tbody>\n",
       "    <tr>\n",
       "      <th>94</th>\n",
       "      <td>acc_f-BandsEnergyOld-5</td>\n",
       "      <td>0.033747</td>\n",
       "    </tr>\n",
       "    <tr>\n",
       "      <th>58</th>\n",
       "      <td>acc_f-STD-3</td>\n",
       "      <td>0.033011</td>\n",
       "    </tr>\n",
       "    <tr>\n",
       "      <th>81</th>\n",
       "      <td>acc_f-MeanFreq-1</td>\n",
       "      <td>0.026759</td>\n",
       "    </tr>\n",
       "    <tr>\n",
       "      <th>38</th>\n",
       "      <td>acc_t-Correlation-2</td>\n",
       "      <td>0.024460</td>\n",
       "    </tr>\n",
       "    <tr>\n",
       "      <th>136</th>\n",
       "      <td>acc_f-Min-mag</td>\n",
       "      <td>0.024000</td>\n",
       "    </tr>\n",
       "    <tr>\n",
       "      <th>...</th>\n",
       "      <td>...</td>\n",
       "      <td>...</td>\n",
       "    </tr>\n",
       "    <tr>\n",
       "      <th>52</th>\n",
       "      <td>acc_t-ARCoeff-mag4</td>\n",
       "      <td>0.000000</td>\n",
       "    </tr>\n",
       "    <tr>\n",
       "      <th>23</th>\n",
       "      <td>acc_t-ropy-2</td>\n",
       "      <td>0.000000</td>\n",
       "    </tr>\n",
       "    <tr>\n",
       "      <th>79</th>\n",
       "      <td>acc_f-MaxInds-2</td>\n",
       "      <td>0.000000</td>\n",
       "    </tr>\n",
       "    <tr>\n",
       "      <th>80</th>\n",
       "      <td>acc_f-MaxInds-3</td>\n",
       "      <td>0.000000</td>\n",
       "    </tr>\n",
       "    <tr>\n",
       "      <th>144</th>\n",
       "      <td>acc_f-Kurtosis-mag</td>\n",
       "      <td>0.000000</td>\n",
       "    </tr>\n",
       "  </tbody>\n",
       "</table>\n",
       "<p>145 rows × 2 columns</p>\n",
       "</div>"
      ],
      "text/plain": [
       "                    feature  importance\n",
       "94   acc_f-BandsEnergyOld-5    0.033747\n",
       "58              acc_f-STD-3    0.033011\n",
       "81         acc_f-MeanFreq-1    0.026759\n",
       "38      acc_t-Correlation-2    0.024460\n",
       "136           acc_f-Min-mag    0.024000\n",
       "..                      ...         ...\n",
       "52       acc_t-ARCoeff-mag4    0.000000\n",
       "23             acc_t-ropy-2    0.000000\n",
       "79          acc_f-MaxInds-2    0.000000\n",
       "80          acc_f-MaxInds-3    0.000000\n",
       "144      acc_f-Kurtosis-mag    0.000000\n",
       "\n",
       "[145 rows x 2 columns]"
      ]
     },
     "metadata": {},
     "output_type": "display_data"
    }
   ],
   "source": [
    "cols = features_list         # 特徴量名のリスト(目的変数CRIM以外)\n",
    "f_importance = np.array(estimator.feature_importances_) # 特徴量重要度の算出\n",
    "f_importance = f_importance / np.sum(f_importance)  # 正規化(必要ない場合はコメントアウト)\n",
    "df_importance = pd.DataFrame({'feature':cols, 'importance':f_importance})\n",
    "df_importance = df_importance.sort_values('importance', ascending=False) # 降順ソート\n",
    "display(df_importance)"
   ]
  },
  {
   "cell_type": "code",
   "execution_count": 111,
   "id": "e43ad521",
   "metadata": {},
   "outputs": [],
   "source": [
    "df_importance.to_csv('feature_importance.csv')"
   ]
  },
  {
   "cell_type": "code",
   "execution_count": 112,
   "id": "9187570f",
   "metadata": {},
   "outputs": [
    {
     "data": {
      "text/plain": [
       "'/Users/y-nakamura/yugo_workspace/bar_exercise/data/features/2021_dpsws'"
      ]
     },
     "execution_count": 112,
     "metadata": {},
     "output_type": "execute_result"
    }
   ],
   "source": [
    "os.getcwd()"
   ]
  },
  {
   "cell_type": "code",
   "execution_count": null,
   "id": "403ed3a9",
   "metadata": {},
   "outputs": [],
   "source": []
  },
  {
   "cell_type": "code",
   "execution_count": 108,
   "id": "c2b051f0",
   "metadata": {},
   "outputs": [
    {
     "data": {
      "image/png": "[encoded data removed]",
      "text/plain": [
       "<Figure size 432x288 with 1 Axes>"
      ]
     },
     "metadata": {},
     "output_type": "display_data"
    }
   ],
   "source": [
    "plot_feature_importance(df_importance)"
   ]
  },
  {
   "cell_type": "code",
   "execution_count": null,
   "id": "880b6658",
   "metadata": {},
   "outputs": [],
   "source": []
  },
  {
   "cell_type": "code",
   "execution_count": null,
   "id": "57b9b018",
   "metadata": {},
   "outputs": [],
   "source": []
  },
  {
   "cell_type": "code",
   "execution_count": 31,
   "id": "00720440",
   "metadata": {},
   "outputs": [
    {
     "data": {
      "text/plain": [
       "LGBMClassifier()"
      ]
     },
     "execution_count": 31,
     "metadata": {},
     "output_type": "execute_result"
    }
   ],
   "source": [
    "model = LGBMClassifier()\n",
    "model.fit( X_r, y_r)"
   ]
  },
  {
   "cell_type": "code",
   "execution_count": 32,
   "id": "946e4e7d",
   "metadata": {},
   "outputs": [
    {
     "data": {
      "text/plain": [
       "array([0, 0, 0, ..., 0, 0, 0])"
      ]
     },
     "execution_count": 32,
     "metadata": {},
     "output_type": "execute_result"
    }
   ],
   "source": [
    "y"
   ]
  },
  {
   "cell_type": "code",
   "execution_count": 33,
   "id": "777abca6",
   "metadata": {},
   "outputs": [
    {
     "data": {
      "text/plain": [
       "array([[9.99981259e-01, 8.62731462e-06, 6.72516893e-07, 8.49597955e-06,\n",
       "        9.44959989e-07],\n",
       "       [9.99992150e-01, 1.95977032e-06, 4.63837736e-07, 4.23350776e-06,\n",
       "        1.19316336e-06],\n",
       "       [9.99997855e-01, 2.08477064e-07, 1.86195800e-07, 1.46218451e-06,\n",
       "        2.87905002e-07],\n",
       "       ...,\n",
       "       [9.99967607e-01, 1.97082051e-05, 2.50169417e-06, 5.67856336e-06,\n",
       "        4.50459078e-06],\n",
       "       [9.99983435e-01, 9.41470738e-06, 1.13896267e-06, 2.67194472e-06,\n",
       "        3.33930481e-06],\n",
       "       [9.99918139e-01, 6.56001625e-05, 3.10087600e-06, 5.41787240e-06,\n",
       "        7.74216479e-06]])"
      ]
     },
     "execution_count": 33,
     "metadata": {},
     "output_type": "execute_result"
    }
   ],
   "source": [
    "y_pred = model.predict_proba(X)\n",
    "y_pred "
   ]
  },
  {
   "cell_type": "code",
   "execution_count": 37,
   "id": "9d9c706f",
   "metadata": {},
   "outputs": [
    {
     "data": {
      "text/plain": [
       "array([0, 0, 0, ..., 0, 0, 0])"
      ]
     },
     "execution_count": 37,
     "metadata": {},
     "output_type": "execute_result"
    }
   ],
   "source": [
    "y_pred_max = np.argmax(y_pred, axis=1)\n",
    "y_pred_max "
   ]
  },
  {
   "cell_type": "code",
   "execution_count": 38,
   "id": "73206d22",
   "metadata": {},
   "outputs": [],
   "source": [
    "cr_dict =  classification_report(y,y_pred_max, output_dict=True)\n",
    "cr_df = pd.DataFrame(cr_dict).T\n",
    "cm = confusion_matrix(y,y_pred_max,  labels=labels)\n",
    "cm_df = pd.DataFrame(cm, index=labels, columns=labels)"
   ]
  },
  {
   "cell_type": "code",
   "execution_count": 39,
   "id": "c2314ce6",
   "metadata": {},
   "outputs": [
    {
     "data": {
      "text/html": [
       "<div>\n",
       "<style scoped>\n",
       "    .dataframe tbody tr th:only-of-type {\n",
       "        vertical-align: middle;\n",
       "    }\n",
       "\n",
       "    .dataframe tbody tr th {\n",
       "        vertical-align: top;\n",
       "    }\n",
       "\n",
       "    .dataframe thead th {\n",
       "        text-align: right;\n",
       "    }\n",
       "</style>\n",
       "<table border=\"1\" class=\"dataframe\">\n",
       "  <thead>\n",
       "    <tr style=\"text-align: right;\">\n",
       "      <th></th>\n",
       "      <th>precision</th>\n",
       "      <th>recall</th>\n",
       "      <th>f1-score</th>\n",
       "      <th>support</th>\n",
       "    </tr>\n",
       "  </thead>\n",
       "  <tbody>\n",
       "    <tr>\n",
       "      <th>0</th>\n",
       "      <td>1.000000</td>\n",
       "      <td>0.807229</td>\n",
       "      <td>0.893333</td>\n",
       "      <td>1245.000000</td>\n",
       "    </tr>\n",
       "    <tr>\n",
       "      <th>1</th>\n",
       "      <td>0.862434</td>\n",
       "      <td>1.000000</td>\n",
       "      <td>0.926136</td>\n",
       "      <td>163.000000</td>\n",
       "    </tr>\n",
       "    <tr>\n",
       "      <th>2</th>\n",
       "      <td>0.922509</td>\n",
       "      <td>1.000000</td>\n",
       "      <td>0.959693</td>\n",
       "      <td>250.000000</td>\n",
       "    </tr>\n",
       "    <tr>\n",
       "      <th>3</th>\n",
       "      <td>0.734072</td>\n",
       "      <td>1.000000</td>\n",
       "      <td>0.846645</td>\n",
       "      <td>265.000000</td>\n",
       "    </tr>\n",
       "    <tr>\n",
       "      <th>4</th>\n",
       "      <td>0.677741</td>\n",
       "      <td>1.000000</td>\n",
       "      <td>0.807921</td>\n",
       "      <td>204.000000</td>\n",
       "    </tr>\n",
       "    <tr>\n",
       "      <th>accuracy</th>\n",
       "      <td>0.887165</td>\n",
       "      <td>0.887165</td>\n",
       "      <td>0.887165</td>\n",
       "      <td>0.887165</td>\n",
       "    </tr>\n",
       "    <tr>\n",
       "      <th>macro avg</th>\n",
       "      <td>0.839351</td>\n",
       "      <td>0.961446</td>\n",
       "      <td>0.886746</td>\n",
       "      <td>2127.000000</td>\n",
       "    </tr>\n",
       "    <tr>\n",
       "      <th>weighted avg</th>\n",
       "      <td>0.916310</td>\n",
       "      <td>0.887165</td>\n",
       "      <td>0.889638</td>\n",
       "      <td>2127.000000</td>\n",
       "    </tr>\n",
       "  </tbody>\n",
       "</table>\n",
       "</div>"
      ],
      "text/plain": [
       "              precision    recall  f1-score      support\n",
       "0              1.000000  0.807229  0.893333  1245.000000\n",
       "1              0.862434  1.000000  0.926136   163.000000\n",
       "2              0.922509  1.000000  0.959693   250.000000\n",
       "3              0.734072  1.000000  0.846645   265.000000\n",
       "4              0.677741  1.000000  0.807921   204.000000\n",
       "accuracy       0.887165  0.887165  0.887165     0.887165\n",
       "macro avg      0.839351  0.961446  0.886746  2127.000000\n",
       "weighted avg   0.916310  0.887165  0.889638  2127.000000"
      ]
     },
     "execution_count": 39,
     "metadata": {},
     "output_type": "execute_result"
    }
   ],
   "source": [
    "cr_df"
   ]
  },
  {
   "cell_type": "code",
   "execution_count": null,
   "id": "9d9be98f",
   "metadata": {},
   "outputs": [],
   "source": []
  },
  {
   "cell_type": "code",
   "execution_count": 43,
   "id": "73baa8e8",
   "metadata": {},
   "outputs": [],
   "source": [
    "# cr_dict =  classification_report(y_r, y_pred, output_dict=True)\n",
    "# cr_df = pd.DataFrame(cr_dict).T\n",
    "# cm = confusion_matrix(y_r, y_pred, labels=labels)\n",
    "# cm_df = pd.DataFrame(cm, index=labels, columns=labels)"
   ]
  },
  {
   "cell_type": "code",
   "execution_count": 44,
   "id": "93e17d4f",
   "metadata": {},
   "outputs": [],
   "source": [
    "# cr_df"
   ]
  },
  {
   "cell_type": "code",
   "execution_count": 45,
   "id": "90b66e4e",
   "metadata": {},
   "outputs": [],
   "source": [
    "index_name=\"True Label\"\n",
    "columns_name=\"Estimated Label\"\n",
    "index=labels\n",
    "columns=labels\n",
    "figure_size=(14, 11)\n",
    "fontsize=20\n",
    "font=\"Times New Roman\""
   ]
  },
  {
   "cell_type": "code",
   "execution_count": 46,
   "id": "57216bd5",
   "metadata": {},
   "outputs": [
    {
     "data": {
      "text/plain": [
       "<AxesSubplot:xlabel='Estimated label', ylabel='True label'>"
      ]
     },
     "execution_count": 46,
     "metadata": {},
     "output_type": "execute_result"
    },
    {
     "data": {
      "text/plain": [
       "<Figure size 432x288 with 0 Axes>"
      ]
     },
     "metadata": {},
     "output_type": "display_data"
    },
    {
     "data": {
      "image/png": "[encoded data removed]",
      "text/plain": [
       "<Figure size 1008x792 with 2 Axes>"
      ]
     },
     "metadata": {},
     "output_type": "display_data"
    }
   ],
   "source": [
    "df = cm_df \n",
    "cm2 = pd.DataFrame(df, index=index, columns=columns)\n",
    "cm3 = cm2.astype('float').div(cm2.sum(axis=1), axis=\"index\")\n",
    "cm3_object = pd.DataFrame(cm3.values, index=index, columns=columns, dtype=str)\n",
    "\n",
    "for i in range(cm3_object.shape[0]):\n",
    "    for j in range(cm3_object.shape[1]):\n",
    "        cm3_object.iat[i, j] = \"{0:.1f}\".format(cm3.iat[i, j]) + \"\\n\" + \"(\" + str(cm2.iat[i, j]) + \")\"\n",
    "\n",
    "cm3.index.name = \"True label\"\n",
    "cm3.columns.name = \"Estimated label\"\n",
    "sns.set()\n",
    "sns.set('talk', 'whitegrid', 'dark', font_scale=1)\n",
    "\n",
    "plt.figure()\n",
    "plt.rcParams[\"font.size\"] = fontsize\n",
    "plt.rcParams['font.family'] = font\n",
    "plt.figure(figsize=figure_size)\n",
    "plt.xlabel('Predict')\n",
    "plt.ylabel('Actual')\n",
    "\n",
    "#     plt.subplots_adjust(bottom=bottom, top=top, left=left, right=right)\n",
    "plt.tight_layout()\n",
    "#     plt.subplots_adjust()\n",
    "\n",
    "sns.heatmap(cm3, annot=cm3_object.values, fmt=\"\", linewidth=2, cmap=\"gray_r\", linecolor=\"black\", vmax=1, vmin=0)\n",
    "\n",
    "\n",
    "#plt.savefig(filename, bbox_inches=\"tight\", pad_inches=0.05)\n",
    "#plt.close(\"all\")"
   ]
  },
  {
   "cell_type": "code",
   "execution_count": 103,
   "id": "211edabd",
   "metadata": {},
   "outputs": [
    {
     "data": {
      "text/html": [
       "<div>\n",
       "<style scoped>\n",
       "    .dataframe tbody tr th:only-of-type {\n",
       "        vertical-align: middle;\n",
       "    }\n",
       "\n",
       "    .dataframe tbody tr th {\n",
       "        vertical-align: top;\n",
       "    }\n",
       "\n",
       "    .dataframe thead th {\n",
       "        text-align: right;\n",
       "    }\n",
       "</style>\n",
       "<table border=\"1\" class=\"dataframe\">\n",
       "  <thead>\n",
       "    <tr style=\"text-align: right;\">\n",
       "      <th></th>\n",
       "      <th>precision</th>\n",
       "      <th>recall</th>\n",
       "      <th>f1-score</th>\n",
       "      <th>support</th>\n",
       "    </tr>\n",
       "  </thead>\n",
       "  <tbody>\n",
       "    <tr>\n",
       "      <th>0</th>\n",
       "      <td>1.000000</td>\n",
       "      <td>0.808032</td>\n",
       "      <td>0.893825</td>\n",
       "      <td>1245.000000</td>\n",
       "    </tr>\n",
       "    <tr>\n",
       "      <th>1</th>\n",
       "      <td>0.876344</td>\n",
       "      <td>1.000000</td>\n",
       "      <td>0.934097</td>\n",
       "      <td>163.000000</td>\n",
       "    </tr>\n",
       "    <tr>\n",
       "      <th>2</th>\n",
       "      <td>0.908759</td>\n",
       "      <td>0.996000</td>\n",
       "      <td>0.950382</td>\n",
       "      <td>250.000000</td>\n",
       "    </tr>\n",
       "    <tr>\n",
       "      <th>3</th>\n",
       "      <td>0.736111</td>\n",
       "      <td>1.000000</td>\n",
       "      <td>0.848000</td>\n",
       "      <td>265.000000</td>\n",
       "    </tr>\n",
       "    <tr>\n",
       "      <th>4</th>\n",
       "      <td>0.677741</td>\n",
       "      <td>1.000000</td>\n",
       "      <td>0.807921</td>\n",
       "      <td>204.000000</td>\n",
       "    </tr>\n",
       "    <tr>\n",
       "      <th>accuracy</th>\n",
       "      <td>0.887165</td>\n",
       "      <td>0.887165</td>\n",
       "      <td>0.887165</td>\n",
       "      <td>0.887165</td>\n",
       "    </tr>\n",
       "    <tr>\n",
       "      <th>macro avg</th>\n",
       "      <td>0.839791</td>\n",
       "      <td>0.960806</td>\n",
       "      <td>0.886845</td>\n",
       "      <td>2127.000000</td>\n",
       "    </tr>\n",
       "    <tr>\n",
       "      <th>weighted avg</th>\n",
       "      <td>0.916014</td>\n",
       "      <td>0.887165</td>\n",
       "      <td>0.889610</td>\n",
       "      <td>2127.000000</td>\n",
       "    </tr>\n",
       "  </tbody>\n",
       "</table>\n",
       "</div>"
      ],
      "text/plain": [
       "              precision    recall  f1-score      support\n",
       "0              1.000000  0.808032  0.893825  1245.000000\n",
       "1              0.876344  1.000000  0.934097   163.000000\n",
       "2              0.908759  0.996000  0.950382   250.000000\n",
       "3              0.736111  1.000000  0.848000   265.000000\n",
       "4              0.677741  1.000000  0.807921   204.000000\n",
       "accuracy       0.887165  0.887165  0.887165     0.887165\n",
       "macro avg      0.839791  0.960806  0.886845  2127.000000\n",
       "weighted avg   0.916014  0.887165  0.889610  2127.000000"
      ]
     },
     "execution_count": 103,
     "metadata": {},
     "output_type": "execute_result"
    }
   ],
   "source": [
    "model = LGBMClassifier()\n",
    "model.fit( X_r, y_r)\n",
    "\n",
    "y\n",
    "\n",
    "y_pred = model.predict_proba(X)\n",
    "y_pred \n",
    "\n",
    "y_pred_max = np.argmax(y_pred, axis=1)\n",
    "y_pred_max \n",
    "\n",
    "cr_dict =  classification_report(y,y_pred_max, output_dict=True)\n",
    "cr_df = pd.DataFrame(cr_dict).T\n",
    "cm = confusion_matrix(y,y_pred_max,  labels=labels)\n",
    "cm_df = pd.DataFrame(cm, index=labels, columns=labels)\n",
    "\n",
    "cr_df"
   ]
  },
  {
   "cell_type": "code",
   "execution_count": 104,
   "id": "e5fe5713",
   "metadata": {
    "scrolled": false
   },
   "outputs": [
    {
     "data": {
      "text/plain": [
       "<AxesSubplot:xlabel='Estimated label', ylabel='True label'>"
      ]
     },
     "execution_count": 104,
     "metadata": {},
     "output_type": "execute_result"
    },
    {
     "data": {
      "text/plain": [
       "<Figure size 432x288 with 0 Axes>"
      ]
     },
     "metadata": {},
     "output_type": "display_data"
    },
    {
     "data": {
      "image/png": "[encoded data removed]",
      "text/plain": [
       "<Figure size 1008x792 with 2 Axes>"
      ]
     },
     "metadata": {},
     "output_type": "display_data"
    }
   ],
   "source": [
    "df = cm_df \n",
    "cm2 = pd.DataFrame(df, index=index, columns=columns)\n",
    "cm3 = cm2.astype('float').div(cm2.sum(axis=1), axis=\"index\")\n",
    "cm3_object = pd.DataFrame(cm3.values, index=index, columns=columns, dtype=str)\n",
    "\n",
    "for i in range(cm3_object.shape[0]):\n",
    "    for j in range(cm3_object.shape[1]):\n",
    "        cm3_object.iat[i, j] = \"{0:.1f}\".format(cm3.iat[i, j]) + \"\\n\" + \"(\" + str(cm2.iat[i, j]) + \")\"\n",
    "\n",
    "cm3.index.name = \"True label\"\n",
    "cm3.columns.name = \"Estimated label\"\n",
    "sns.set()\n",
    "sns.set('talk', 'whitegrid', 'dark', font_scale=1)\n",
    "\n",
    "plt.figure()\n",
    "plt.rcParams[\"font.size\"] = fontsize\n",
    "plt.rcParams['font.family'] = font\n",
    "plt.figure(figsize=figure_size)\n",
    "plt.xlabel('Predict')\n",
    "plt.ylabel('Actual')\n",
    "\n",
    "#     plt.subplots_adjust(bottom=bottom, top=top, left=left, right=right)\n",
    "plt.tight_layout()\n",
    "#     plt.subplots_adjust()\n",
    "\n",
    "sns.heatmap(cm3, annot=cm3_object.values, fmt=\"\", linewidth=2, cmap=\"gray_r\", linecolor=\"black\", vmax=1, vmin=0)\n",
    "\n",
    "\n",
    "#plt.savefig(filename, bbox_inches=\"tight\", pad_inches=0.05)\n",
    "#plt.close(\"all\")"
   ]
  },
  {
   "cell_type": "code",
   "execution_count": null,
   "id": "805b0b0a",
   "metadata": {},
   "outputs": [],
   "source": []
  }
 ],
 "metadata": {
  "kernelspec": {
   "display_name": "Python 3",
   "language": "python",
   "name": "python3"
  },
  "language_info": {
   "codemirror_mode": {
    "name": "ipython",
    "version": 3
   },
   "file_extension": ".py",
   "mimetype": "text/x-python",
   "name": "python",
   "nbconvert_exporter": "python",
   "pygments_lexer": "ipython3",
   "version": "3.8.10"
  },
  "toc": {
   "base_numbering": 1,
   "nav_menu": {},
   "number_sections": true,
   "sideBar": true,
   "skip_h1_title": false,
   "title_cell": "Table of Contents",
   "title_sidebar": "Contents",
   "toc_cell": false,
   "toc_position": {},
   "toc_section_display": true,
   "toc_window_display": false
  },
  "varInspector": {
   "cols": {
    "lenName": 16,
    "lenType": 16,
    "lenVar": 40
   },
   "kernels_config": {
    "python": {
     "delete_cmd_postfix": "",
     "delete_cmd_prefix": "del ",
     "library": "var_list.py",
     "varRefreshCmd": "print(var_dic_list())"
    },
    "r": {
     "delete_cmd_postfix": ") ",
     "delete_cmd_prefix": "rm(",
     "library": "var_list.r",
     "varRefreshCmd": "cat(var_dic_list()) "
    }
   },
   "types_to_exclude": [
    "module",
    "function",
    "builtin_function_or_method",
    "instance",
    "_Feature"
   ],
   "window_display": false
  }
 },
 "nbformat": 4,
 "nbformat_minor": 5
}
